{
 "cells": [
  {
   "cell_type": "code",
   "execution_count": 1,
   "metadata": {},
   "outputs": [],
   "source": [
    "import matplotlib.pyplot as plt\n",
    "from scipy import stats\n",
    "import numpy as np\n",
    "import ray\n",
    "from ray.rllib.agents import ppo, a3c, dqn, sac\n",
    "\n",
    "from mdps.whited_CEF import cMDPWhited_CEF\n",
    "from mdps.whited_tax import cMDPWhited_tax\n",
    "from utils.distributions import ConstantDistribution, ParticleDistribution, UniformDistribution"
   ]
  },
  {
   "cell_type": "markdown",
   "metadata": {},
   "source": [
    "## CEF"
   ]
  },
  {
   "cell_type": "code",
   "execution_count": 2,
   "metadata": {},
   "outputs": [],
   "source": [
    "# collect expert rollout\n",
    "\n",
    "def get_rollouts(solver_, config):\n",
    "    \"\"\"Generate rollouts from a given solver and MDP(c)\"\"\"\n",
    "    env_ = cMDPWhited_CEF(config=config)\n",
    "    done_ = False\n",
    "    obs_ = env_.reset()\n",
    "    # run until episode ends\n",
    "    gt_obs_arr_ = obs_\n",
    "    gt_act_arr_ = None\n",
    "    gt_rew_arr_ = None\n",
    "    while not done_:\n",
    "        action_ = solver_.compute_single_action(obs_)\n",
    "        obs_, rewawrd_, done_, _ = env_.step(action_)\n",
    "        gt_obs_arr_ = np.vstack((gt_obs_arr_, obs_))\n",
    "        if gt_act_arr_ is None:\n",
    "            gt_act_arr_ = [action_]\n",
    "            gt_rew_arr_ = [rewawrd_]\n",
    "        else:\n",
    "            gt_act_arr_ += [action_]\n",
    "            gt_rew_arr_ += [rewawrd_]\n",
    "\n",
    "    gt_act_arr_ = np.array(gt_act_arr_)\n",
    "    gt_rew_arr_ = np.array(gt_rew_arr_)\n",
    "    return gt_obs_arr_[1:,:], gt_act_arr_, gt_rew_arr_\n",
    "\n",
    "def plot_rollouts(gt_obs_arr_, gt_act_arr_):\n",
    "    \"\"\"Plot generated rollouts\"\"\"\n",
    "    fig_, ax_1 = plt.subplots()\n",
    "    fig_.set_size_inches(10, 6, forward=True)\n",
    "\n",
    "    x = np.arange(start=0, stop=gt_obs_arr_.shape[0])\n",
    "    ax_2 = ax_1.twinx()\n",
    "    ax_1.plot(x, gt_obs_arr_[:,0], 'r-')\n",
    "    ax_2.plot(x, gt_act_arr_, 'b-', alpha=0.3)\n",
    "\n",
    "    ax_1.set_xlabel('time step')\n",
    "    ax_1.set_ylabel('Capital(k)', color='r')\n",
    "    ax_2.set_ylabel('Action', color='b')\n",
    "    plt.title('sample observations and actions')\n",
    "    plt.show()\n",
    "\n",
    "    fig_, ax_3 = plt.subplots()\n",
    "    fig_.set_size_inches(10, 6, forward=True)\n",
    "\n",
    "    x = np.arange(start=0, stop=gt_obs_arr_.shape[0])\n",
    "    ax_4 = ax_3.twinx()\n",
    "    ax_3.plot(x, gt_obs_arr_[:,1], 'r-')\n",
    "    ax_4.plot(x, gt_act_arr_, 'b-', alpha=0.3)\n",
    "\n",
    "    ax_3.set_xlabel('time step')\n",
    "    ax_3.set_ylabel('Shock(z)', color='r')\n",
    "    ax_4.set_ylabel('Action', color='b')\n",
    "    plt.title('sample observations and actions')\n",
    "    plt.show()"
   ]
  },
  {
   "cell_type": "code",
   "execution_count": 3,
   "metadata": {},
   "outputs": [],
   "source": [
    "c = {\"context_distribution\":\n",
    "        ConstantDistribution(dim=7, constant_vector=np.array([0.98, 0.15, 0.7, 0.7, 0.15, 0.08, 0.028]))\n",
    "    }"
   ]
  },
  {
   "cell_type": "markdown",
   "metadata": {},
   "source": [
    "### 1. ppo"
   ]
  },
  {
   "cell_type": "code",
   "execution_count": 4,
   "metadata": {},
   "outputs": [
    {
     "name": "stderr",
     "output_type": "stream",
     "text": [
      "2022-04-04 21:56:53,458\tINFO ppo.py:166 -- In multi-agent mode, policies will be optimized sequentially by the multi-GPU optimizer. Consider setting simple_optimizer=True if this doesn't work for you.\n",
      "2022-04-04 21:56:53,459\tINFO trainer.py:743 -- Current log_level is WARN. For more information, set 'log_level': 'INFO' / 'DEBUG' or use the -v and -vv flags.\n",
      "2022-04-04 21:56:55,508\tWARNING util.py:57 -- Install gputil for GPU system monitoring.\n",
      "2022-04-04 21:57:04,898\tWARNING ppo.py:245 -- The magnitude of your environment rewards are more than 4345576043602.0x the scale of `vf_clip_param`. This means that it will take more than 4345576043602.0 iterations for your value function to converge. If this is not intended, consider increasing `vf_clip_param`.\n"
     ]
    },
    {
     "name": "stdout",
     "output_type": "stream",
     "text": [
      "0 -43455760436015.375\n"
     ]
    },
    {
     "name": "stderr",
     "output_type": "stream",
     "text": [
      "2022-04-04 21:57:14,103\tWARNING ppo.py:245 -- The magnitude of your environment rewards are more than 2190668395011.0x the scale of `vf_clip_param`. This means that it will take more than 2190668395011.0 iterations for your value function to converge. If this is not intended, consider increasing `vf_clip_param`.\n",
      "2022-04-04 21:57:23,078\tWARNING ppo.py:245 -- The magnitude of your environment rewards are more than 84161154301.0x the scale of `vf_clip_param`. This means that it will take more than 84161154301.0 iterations for your value function to converge. If this is not intended, consider increasing `vf_clip_param`.\n",
      "2022-04-04 21:57:32,586\tWARNING ppo.py:245 -- The magnitude of your environment rewards are more than 13448667357.0x the scale of `vf_clip_param`. This means that it will take more than 13448667357.0 iterations for your value function to converge. If this is not intended, consider increasing `vf_clip_param`.\n",
      "2022-04-04 21:57:42,374\tWARNING ppo.py:245 -- The magnitude of your environment rewards are more than 199684189.0x the scale of `vf_clip_param`. This means that it will take more than 199684189.0 iterations for your value function to converge. If this is not intended, consider increasing `vf_clip_param`.\n",
      "2022-04-04 21:57:52,281\tWARNING ppo.py:245 -- The magnitude of your environment rewards are more than 4948520.0x the scale of `vf_clip_param`. This means that it will take more than 4948520.0 iterations for your value function to converge. If this is not intended, consider increasing `vf_clip_param`.\n"
     ]
    },
    {
     "name": "stdout",
     "output_type": "stream",
     "text": [
      "5 -49485198.735520296\n"
     ]
    },
    {
     "name": "stderr",
     "output_type": "stream",
     "text": [
      "2022-04-04 21:58:02,235\tWARNING ppo.py:245 -- The magnitude of your environment rewards are more than 1300544.0x the scale of `vf_clip_param`. This means that it will take more than 1300544.0 iterations for your value function to converge. If this is not intended, consider increasing `vf_clip_param`.\n",
      "2022-04-04 21:58:12,153\tWARNING ppo.py:245 -- The magnitude of your environment rewards are more than 152105.0x the scale of `vf_clip_param`. This means that it will take more than 152105.0 iterations for your value function to converge. If this is not intended, consider increasing `vf_clip_param`.\n",
      "2022-04-04 21:58:22,112\tWARNING ppo.py:245 -- The magnitude of your environment rewards are more than 9772.0x the scale of `vf_clip_param`. This means that it will take more than 9772.0 iterations for your value function to converge. If this is not intended, consider increasing `vf_clip_param`.\n",
      "2022-04-04 21:58:32,125\tWARNING ppo.py:245 -- The magnitude of your environment rewards are more than 968.0x the scale of `vf_clip_param`. This means that it will take more than 968.0 iterations for your value function to converge. If this is not intended, consider increasing `vf_clip_param`.\n"
     ]
    },
    {
     "name": "stdout",
     "output_type": "stream",
     "text": [
      "10 -1071.2740094872106\n",
      "15 675.1265373317746\n",
      "20 766.7387184686877\n",
      "25 774.7022360893632\n",
      "30 812.3297354091203\n"
     ]
    }
   ],
   "source": [
    "ray.shutdown()\n",
    "ray.init()\n",
    "\n",
    "expert = ppo.PPOTrainer(env=cMDPWhited_CEF, config={\n",
    "    \"env_config\": c,\n",
    "    \"framework\": \"torch\",  # config to pass to env class\n",
    "})\n",
    "\n",
    "rews = []\n",
    "for eps in range(35):\n",
    "    res = expert.train()\n",
    "    if eps % 5 == 0:\n",
    "        print(eps, res['episode_reward_mean'])\n",
    "    rews += [res['episode_reward_mean']]"
   ]
  },
  {
   "cell_type": "markdown",
   "metadata": {},
   "source": [
    "### 2. a3c"
   ]
  },
  {
   "cell_type": "code",
   "execution_count": 5,
   "metadata": {},
   "outputs": [
    {
     "name": "stderr",
     "output_type": "stream",
     "text": [
      "2022-04-04 22:02:51,659\tWARNING deprecation.py:45 -- DeprecationWarning: `convert_to_non_torch_type` has been deprecated. Use `ray/rllib/utils/numpy.py::convert_to_numpy` instead. This will raise an error in the future!\n",
      "2022-04-04 22:02:51,666\tWARNING util.py:57 -- Install gputil for GPU system monitoring.\n",
      " pid=34392)\u001b[0m 2022-04-04 22:02:51,642\tWARNING deprecation.py:45 -- DeprecationWarning: `convert_to_non_torch_type` has been deprecated. Use `ray/rllib/utils/numpy.py::convert_to_numpy` instead. This will raise an error in the future!\n"
     ]
    },
    {
     "name": "stdout",
     "output_type": "stream",
     "text": [
      "0 nan\n",
      "5 144.82294380126322\n",
      "10 206.88610602235573\n",
      "15 180.4553036095765\n",
      "20 269.09695373771183\n",
      "25 274.51606684299367\n",
      "30 286.84768049886185\n"
     ]
    }
   ],
   "source": [
    "ray.shutdown()\n",
    "ray.init()\n",
    "\n",
    "expert_a3c = a3c.A3CTrainer(env=cMDPWhited_CEF, config={\n",
    "    \"env_config\": c,\n",
    "    \"framework\": \"torch\",  # config to pass to env class\n",
    "})\n",
    "\n",
    "rews = []\n",
    "for eps in range(35):\n",
    "    res = expert_a3c.train()\n",
    "    if eps % 5 == 0:\n",
    "        print(eps, res['episode_reward_mean'])\n",
    "    rews += [res['episode_reward_mean']]"
   ]
  },
  {
   "cell_type": "markdown",
   "metadata": {},
   "source": [
    "### 3. dqn"
   ]
  },
  {
   "cell_type": "code",
   "execution_count": 6,
   "metadata": {},
   "outputs": [
    {
     "name": "stderr",
     "output_type": "stream",
     "text": [
      "2022-04-04 22:05:53,230\tWARNING util.py:57 -- Install gputil for GPU system monitoring.\n"
     ]
    },
    {
     "name": "stdout",
     "output_type": "stream",
     "text": [
      "0 -7401606635605.94\n",
      "5 -5.214298019382953e+19\n",
      "10 -1.595544756869128e+23\n",
      "15 -7.033824856860706e+23\n"
     ]
    },
    {
     "name": "stderr",
     "output_type": "stream",
     "text": [
      "2022-04-04 22:06:55,045\tWARNING logger.py:224 -- You are trying to log an invalid value (ray/tune/hist_stats/episode_reward=[-2.2268164121731033e+21, -4.738816428123156e+21, -9.210969574702366e+21, -5.557626911679451e+22, -1.0390507653349604e+22, -4.103730942947074e+22, -4.535618998505243e+21, -3.207852276059924e+22, -3.1427391402096816e+22, -8.635186675581664e+21, -2.7851211961319157e+23, -1.2786535843757476e+23, -2.9609334392072922e+22, -8.544797978935731e+23, -8.074447853743672e+22, -4.8897321792951917e+23, -4.9195770839192914e+23, -8.855780350168359e+23, -6.122262021569488e+23, -3.302212743744315e+23, -1.5064858361548094e+24, -4.36572832595134e+23, -1.5064857805903622e+24, -1.03747825118799e+24, -1.1518012588711823e+24, -1.728435713901691e+24, -9.745517797391952e+23, -1.232217799579807e+24, -1.8394108147657687e+24, -1.2238671123898781e+23, -1.2309329883289908e+24, -6.215998522938725e+23, -1.7284357913315853e+24, -8.903485006607936e+23, -4.841565105780148e+23, -6.748934633291104e+23, -1.0221559928147575e+24, -6.257994459147075e+23, -8.841858426279151e+23, -6.528611703494068e+23, -5.1767854793256786e+23, -1.6090915837875516e+24, -6.476757313161353e+23, -1.3955107829540107e+24, -5.210176172997093e+23, -7.336778701719174e+23, -1.2845357322351282e+24, -1.8948983166964082e+24, -9.257499881198959e+23, -1.0093691585782676e+24, -4.1209265274673236e+23, -6.448445461115986e+23, -1.617460728314765e+24, -9.516106908815543e+23, -1.2443634707090607e+24, -4.630333729789247e+23, -4.7477951711812894e+23, -1.7839232709458515e+24, -1.728435819637295e+24, -1.340043043676809e+24, -7.019965025996495e+23, -9.664240678043924e+23, -2.6529030207048217e+23, -1.506858297705406e+24, -1.2845356846061308e+24, -1.3735002319176354e+24, -1.1180826410928832e+24, -1.0765484473350976e+24, -1.07663968921939e+24, -1.672948287692554e+24, -6.682732154996394e+23, -9.27087827863239e+23, -1.6174608023510822e+24, -1.1029238822466176e+24, -1.7841123025188335e+24, -1.783923340813873e+24, -1.9503858030648575e+24, -1.666268729297762e+24, -1.1783905397217907e+24, -6.491169827906012e+23, -1.8394107959563913e+24, -1.3400236191431155e+24, -7.48742341217423e+23, -1.5216058761417266e+24, -1.0677396416090707e+24, -1.783923263908433e+24, -1.450999200284432e+24, -1.4509982632668541e+24, -9.159580405989496e+23, -2.3852540934441024e+23, -8.819796743393649e+23, -1.839410768919393e+24, -6.796163986137017e+23, -1.8915506562011485e+24, -9.965530549190473e+23, -1.8948627456978874e+24, -1.7839232737483112e+24, -1.8394108093452776e+24, -4.922995711142826e+23, -5.784300078088712e+23]) via TBXLogger!\n"
     ]
    },
    {
     "name": "stdout",
     "output_type": "stream",
     "text": [
      "20 -8.964927423697794e+23\n",
      "25 -3.5263344658324555e+23\n",
      "30 34.37257319858415\n"
     ]
    }
   ],
   "source": [
    "ray.shutdown()\n",
    "ray.init()\n",
    "\n",
    "expert_dqn = dqn.DQNTrainer(env=cMDPWhited_CEF, config={\n",
    "    \"env_config\": c,\n",
    "    \"framework\": \"torch\",  # config to pass to env class\n",
    "})\n",
    "\n",
    "rews = []\n",
    "for eps in range(35):\n",
    "    res = expert_dqn.train()\n",
    "    if eps % 5 == 0:\n",
    "        print(eps, res['episode_reward_mean'])\n",
    "    rews += [res['episode_reward_mean']]"
   ]
  },
  {
   "cell_type": "markdown",
   "metadata": {},
   "source": [
    "### 4. sac"
   ]
  },
  {
   "cell_type": "code",
   "execution_count": 7,
   "metadata": {},
   "outputs": [
    {
     "name": "stderr",
     "output_type": "stream",
     "text": [
      "2022-04-04 22:08:07,410\tWARNING util.py:57 -- Install gputil for GPU system monitoring.\n"
     ]
    },
    {
     "name": "stdout",
     "output_type": "stream",
     "text": [
      "0 -1.4567904029555645e+18\n",
      "5 -1.0925928022166735e+18\n",
      "10 -8.740742417733388e+17\n",
      "15 -7.283952014777823e+17\n",
      "20 -6.243387441238132e+17\n",
      "25 -5.462964011083365e+17\n",
      "30 -4.8559680098518803e+17\n"
     ]
    }
   ],
   "source": [
    "ray.shutdown()\n",
    "ray.init()\n",
    "\n",
    "expert_sac = sac.SACTrainer(env=cMDPWhited_CEF, config={\n",
    "    \"env_config\": c,\n",
    "    \"framework\": \"torch\",  # config to pass to env class\n",
    "})\n",
    "\n",
    "rews = []\n",
    "for eps in range(35):\n",
    "    res = expert_sac.train()\n",
    "    if eps % 5 == 0:\n",
    "        print(eps, res['episode_reward_mean'])\n",
    "    rews += [res['episode_reward_mean']]"
   ]
  },
  {
   "cell_type": "markdown",
   "metadata": {},
   "source": [
    "### 5. Random"
   ]
  },
  {
   "cell_type": "code",
   "execution_count": 8,
   "metadata": {},
   "outputs": [
    {
     "name": "stderr",
     "output_type": "stream",
     "text": [
      "2022-04-04 22:10:23,309\tWARNING util.py:57 -- Install gputil for GPU system monitoring.\n"
     ]
    }
   ],
   "source": [
    "ray.shutdown()\n",
    "ray.init()\n",
    "\n",
    "expert_rdm = ppo.PPOTrainer(env=cMDPWhited_CEF, config={\n",
    "    \"env_config\": c,\n",
    "    \"framework\": \"torch\",  # config to pass to env class\n",
    "})"
   ]
  },
  {
   "cell_type": "code",
   "execution_count": 9,
   "metadata": {},
   "outputs": [
    {
     "name": "stdout",
     "output_type": "stream",
     "text": [
      "806.2184352887973\n"
     ]
    }
   ],
   "source": [
    "r = np.zeros(500)\n",
    "for i in range(500):\n",
    "    gt_obs_arr, gt_act_arr, gt_rew_arr = get_rollouts(expert, config=c)\n",
    "    r[i] = sum(gt_rew_arr)\n",
    "print(np.mean(r))"
   ]
  },
  {
   "cell_type": "code",
   "execution_count": 82,
   "metadata": {},
   "outputs": [],
   "source": [
    "gt_obs_arr, gt_act_arr, gt_rew_arr = get_rollouts(expert_sac, config=c)"
   ]
  },
  {
   "cell_type": "code",
   "execution_count": 84,
   "metadata": {},
   "outputs": [
    {
     "data": {
      "image/png": "[encoded data removed]",
      "text/plain": [
       "<Figure size 864x576 with 2 Axes>"
      ]
     },
     "metadata": {
      "needs_background": "light"
     },
     "output_type": "display_data"
    },
    {
     "name": "stderr",
     "output_type": "stream",
     "text": [
      "\u001b[2m\u001b[36m(pid=None)\u001b[0m [2022-04-05 21:49:42,580 C 35140 40048] redis_client.cc:87:  Check failed: under_retry_limit Expected 1 Redis shard addresses, found 8247328359524230500\n",
      "\u001b[2m\u001b[36m(pid=None)\u001b[0m *** StackTrace Information ***\n",
      "\u001b[2m\u001b[36m(pid=None)\u001b[0m     recalloc\n",
      "\u001b[2m\u001b[36m(pid=None)\u001b[0m     BaseThreadInitThunk\n",
      "\u001b[2m\u001b[36m(pid=None)\u001b[0m     RtlUserThreadStart\n",
      "\u001b[2m\u001b[36m(pid=None)\u001b[0m \n",
      "2022-04-06 21:35:23,847\tWARNING worker.py:1245 -- A worker died or was killed while executing a task by an unexpected system error. To troubleshoot the problem, check the logs for the dead worker. RayTask ID: ffffffffffffffff1db318184e581d9e5bc112a001000000 Worker ID: d7143ae53af55a0fc7f8ad1b986bfa898ff10954a54a7495975a58ff Node ID: 3daee4914afd9adb9d8e0b5b63fb3f346a5539b9dd08d69b5b872fe3 Worker IP address: 127.0.0.1 Worker port: 50167 Worker PID: 32628\n",
      "2022-04-06 21:35:23,854\tWARNING worker.py:1245 -- A worker died or was killed while executing a task by an unexpected system error. To troubleshoot the problem, check the logs for the dead worker. RayTask ID: ffffffffffffffff3ce99fcf24229f2da738a5f801000000 Worker ID: 1dca292e4401912adb8f8ee28a0ef569cf3a08cb9e4ecde65a05f701 Node ID: 3daee4914afd9adb9d8e0b5b63fb3f346a5539b9dd08d69b5b872fe3 Worker IP address: 127.0.0.1 Worker port: 50166 Worker PID: 27044\n",
      "\u001b[2m\u001b[36m(pid=None)\u001b[0m [2022-04-06 21:35:24,271 C 19596 38956] asio.cc:88: redis_async_context_ must not be NULL\n",
      "\u001b[2m\u001b[36m(pid=None)\u001b[0m *** StackTrace Information ***\n",
      "\u001b[2m\u001b[36m(pid=None)\u001b[0m     BaseThreadInitThunk\n",
      "\u001b[2m\u001b[36m(pid=None)\u001b[0m     RtlUserThreadStart\n",
      "\u001b[2m\u001b[36m(pid=None)\u001b[0m \n",
      "\u001b[2m\u001b[36m(pid=None)\u001b[0m [2022-04-06 21:35:31,699 C 48944 50756] redis_client.cc:87:  Check failed: under_retry_limit Expected 1 Redis shard addresses, found 3\n",
      "\u001b[2m\u001b[36m(pid=None)\u001b[0m *** StackTrace Information ***\n",
      "\u001b[2m\u001b[36m(pid=None)\u001b[0m     recalloc\n",
      "\u001b[2m\u001b[36m(pid=None)\u001b[0m     BaseThreadInitThunk\n",
      "\u001b[2m\u001b[36m(pid=None)\u001b[0m     RtlUserThreadStart\n",
      "\u001b[2m\u001b[36m(pid=None)\u001b[0m \n",
      "\u001b[2m\u001b[36m(pid=None)\u001b[0m [2022-04-06 21:36:30,153 C 47440 39780] redis_client.cc:87:  Check failed: under_retry_limit Expected 1 Redis shard addresses, found 4\n",
      "\u001b[2m\u001b[36m(pid=None)\u001b[0m *** StackTrace Information ***\n",
      "\u001b[2m\u001b[36m(pid=None)\u001b[0m     recalloc\n",
      "\u001b[2m\u001b[36m(pid=None)\u001b[0m     BaseThreadInitThunk\n",
      "\u001b[2m\u001b[36m(pid=None)\u001b[0m     RtlUserThreadStart\n",
      "\u001b[2m\u001b[36m(pid=None)\u001b[0m \n",
      "\u001b[2m\u001b[36m(pid=None)\u001b[0m [2022-04-06 23:23:35,291 C 34800 24108] redis_client.cc:87:  Check failed: under_retry_limit Expected 1 Redis shard addresses, found 5\n",
      "\u001b[2m\u001b[36m(pid=None)\u001b[0m *** StackTrace Information ***\n",
      "\u001b[2m\u001b[36m(pid=None)\u001b[0m     recalloc\n",
      "\u001b[2m\u001b[36m(pid=None)\u001b[0m     BaseThreadInitThunk\n",
      "\u001b[2m\u001b[36m(pid=None)\u001b[0m     RtlUserThreadStart\n",
      "\u001b[2m\u001b[36m(pid=None)\u001b[0m \n",
      "2022-04-06 23:23:53,181\tWARNING worker.py:1245 -- The node with node id: 46a4835654eafae7a017d15066c2f4302d6d2678ae6e451529427c31 and ip: 127.0.0.1 has been marked dead because the detector has missed too many heartbeats from it. This can happen when a raylet crashes unexpectedly or has lagging heartbeats.\n",
      "2022-04-06 23:24:16,332\tWARNING worker.py:1245 -- The node with node id: 290346a8b0242b02ac276354962a13ef2dbd530a17c45410c2aed730 and ip: 127.0.0.1 has been marked dead because the detector has missed too many heartbeats from it. This can happen when a raylet crashes unexpectedly or has lagging heartbeats.\n",
      "\u001b[2m\u001b[36m(pid=None)\u001b[0m [2022-04-06 23:27:04,141 C 35836 41240] redis_client.cc:87:  Check failed: under_retry_limit Expected 1 Redis shard addresses, found 8104303535147543913\n",
      "\u001b[2m\u001b[36m(pid=None)\u001b[0m *** StackTrace Information ***\n",
      "\u001b[2m\u001b[36m(pid=None)\u001b[0m     recalloc\n",
      "\u001b[2m\u001b[36m(pid=None)\u001b[0m     BaseThreadInitThunk\n",
      "\u001b[2m\u001b[36m(pid=None)\u001b[0m     RtlUserThreadStart\n",
      "\u001b[2m\u001b[36m(pid=None)\u001b[0m \n",
      "\u001b[2m\u001b[36m(pid=None)\u001b[0m [2022-04-06 23:27:10,101 E 34168 30876] local_object_manager.cc:32: Plasma object ffffffffffffffffffffffffffffffffffffffff0100000001000000 was evicted before the raylet could pin it.\n",
      "\u001b[2m\u001b[36m(pid=None)\u001b[0m [2022-04-06 23:27:10,113 C 34168 30876] local_object_manager.cc:88:  Check failed: (pinned_objects_.count(object_id) > 0) || (spilled_objects_url_.count(object_id) > 0) || (objects_pending_spill_.count(object_id) > 0) \n",
      "\u001b[2m\u001b[36m(pid=None)\u001b[0m *** StackTrace Information ***\n",
      "\u001b[2m\u001b[36m(pid=None)\u001b[0m     BaseThreadInitThunk\n",
      "\u001b[2m\u001b[36m(pid=None)\u001b[0m     RtlUserThreadStart\n",
      "\u001b[2m\u001b[36m(pid=None)\u001b[0m \n",
      "2022-04-06 23:27:39,726\tWARNING worker.py:1245 -- The node with node id: 3daee4914afd9adb9d8e0b5b63fb3f346a5539b9dd08d69b5b872fe3 and ip: 127.0.0.1 has been marked dead because the detector has missed too many heartbeats from it. This can happen when a raylet crashes unexpectedly or has lagging heartbeats.\n",
      "\u001b[2m\u001b[36m(pid=None)\u001b[0m [2022-04-06 23:33:44,753 C 33512 43644] redis_client.cc:87:  Check failed: under_retry_limit Expected 1 Redis shard addresses, found 7\n",
      "\u001b[2m\u001b[36m(pid=None)\u001b[0m *** StackTrace Information ***\n",
      "\u001b[2m\u001b[36m(pid=None)\u001b[0m     recalloc\n",
      "\u001b[2m\u001b[36m(pid=None)\u001b[0m     BaseThreadInitThunk\n",
      "\u001b[2m\u001b[36m(pid=None)\u001b[0m     RtlUserThreadStart\n",
      "\u001b[2m\u001b[36m(pid=None)\u001b[0m \n",
      "2022-04-06 23:34:03,901\tWARNING worker.py:1245 -- The node with node id: 8f4fdade0d0cb602b3afbd282c55ab74d6f434c9675d62fae56c6bd1 and ip: 127.0.0.1 has been marked dead because the detector has missed too many heartbeats from it. This can happen when a raylet crashes unexpectedly or has lagging heartbeats.\n"
     ]
    }
   ],
   "source": [
    "fig_, ax_1 = plt.subplots()\n",
    "fig_.set_size_inches(12, 8, forward=True)\n",
    "\n",
    "x = np.arange(start=0, stop=gt_obs_arr.shape[0])\n",
    "ax_2 = ax_1.twinx()\n",
    "ax_1.plot(x, gt_obs_arr[:,0], 'r-')\n",
    "ax_2.plot(x, gt_act_arr, 'b-', alpha=0.3)\n",
    "\n",
    "ax_1.set_xlabel('time step')\n",
    "ax_1.set_ylabel('Capital(k)', color='r')\n",
    "ax_2.set_ylabel('Action', color='b')\n",
    "plt.title('sample observations and actions')\n",
    "# plt.savefig('basic_cef_sac.pdf')\n",
    "plt.show()"
   ]
  },
  {
   "cell_type": "code",
   "execution_count": null,
   "metadata": {},
   "outputs": [],
   "source": []
  }
 ],
 "metadata": {
  "interpreter": {
   "hash": "16a3518dfa5cb33a0620436a7a102ad666319d5de5ba6596153af067c455079e"
  },
  "kernelspec": {
   "display_name": "Python 3.8.8 ('base')",
   "language": "python",
   "name": "python3"
  },
  "language_info": {
   "codemirror_mode": {
    "name": "ipython",
    "version": 3
   },
   "file_extension": ".py",
   "mimetype": "text/x-python",
   "name": "python",
   "nbconvert_exporter": "python",
   "pygments_lexer": "ipython3",
   "version": "3.8.8"
  },
  "orig_nbformat": 4
 },
 "nbformat": 4,
 "nbformat_minor": 2
}
