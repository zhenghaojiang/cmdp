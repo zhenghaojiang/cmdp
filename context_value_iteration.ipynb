{
 "cells": [
  {
   "cell_type": "code",
   "execution_count": 1,
   "metadata": {},
   "outputs": [],
   "source": [
    "import numpy as np\n",
    "from solver.value_iteration import VITrainer\n",
    "import matplotlib.pyplot as plt\n",
    "from scipy import stats\n",
    "\n",
    "from mdps.whited import cMDPWhited\n",
    "from utils.distributions import ConstantDistribution, ParticleDistribution, UniformDistribution"
   ]
  },
  {
   "cell_type": "code",
   "execution_count": 2,
   "metadata": {},
   "outputs": [],
   "source": [
    "def get_rollouts(solver_, config):\n",
    "    \"\"\"Generate rollouts from a given solver and MDP(c)\"\"\"\n",
    "    env_ = cMDPWhited(config=config)\n",
    "    done_ = False\n",
    "    obs_ = env_.reset()\n",
    "    # run until episode ends\n",
    "    gt_obs_arr_ = obs_\n",
    "    gt_act_arr_ = None\n",
    "    gt_rew_arr_ = None\n",
    "    while not done_:\n",
    "        action_ = solver_.compute_single_action(obs_)\n",
    "        obs_, rewawrd_, done_, _ = env_.step(action_)\n",
    "        gt_obs_arr_ = np.vstack((gt_obs_arr_, obs_))\n",
    "        if gt_act_arr_ is None:\n",
    "            gt_act_arr_ = [action_]\n",
    "            gt_rew_arr_ = [rewawrd_]\n",
    "        else:\n",
    "            gt_act_arr_ += [action_]\n",
    "            gt_rew_arr_ += [rewawrd_]\n",
    "\n",
    "    gt_act_arr_ = np.array(gt_act_arr_)\n",
    "    gt_rew_arr_ = np.array(gt_rew_arr_)\n",
    "    return gt_obs_arr_[1:, :], gt_act_arr_, gt_rew_arr_"
   ]
  },
  {
   "cell_type": "code",
   "execution_count": 3,
   "metadata": {},
   "outputs": [
    {
     "name": "stdout",
     "output_type": "stream",
     "text": [
      "train solver\n"
     ]
    }
   ],
   "source": [
    "c = {\"context_distribution\":\n",
    "     ConstantDistribution(dim=5, constant_vector=np.array(\n",
    "         [0.98, 0.15, 0.7, 0.7, 0.15]))\n",
    "     }\n",
    "c_trainer = {'grid_nums':\n",
    "             np.array([5, 5])\n",
    "             }\n",
    "c_sim = {\"context_distribution\":\n",
    "         ConstantDistribution(dim=5, constant_vector=np.array(\n",
    "             [0.98, 0.15, 0.7, 0.7, 0.15]))\n",
    "         }\n",
    "c_trainer_sim = {'grid_nums':\n",
    "                 np.array([20, 10])\n",
    "                 }\n",
    "solver_vi = VITrainer(env=cMDPWhited(config=c),\n",
    "                      config=c_trainer_sim)\n",
    "print(\"train solver\")\n",
    "solver_vi.train()"
   ]
  },
  {
   "cell_type": "markdown",
   "metadata": {},
   "source": [
    "### For $\\rho$"
   ]
  },
  {
   "cell_type": "code",
   "execution_count": 4,
   "metadata": {},
   "outputs": [],
   "source": [
    "def filter_context(context_distribution_,\n",
    "                   gt_obs_arr_,\n",
    "                   T_,\n",
    "                   N_,\n",
    "                   c_trainer_\n",
    "                   ):\n",
    "    state_arr_ = np.ones((N_, 2))\n",
    "    action_arr_ = np.zeros((N_,))\n",
    "    context_history_ = []\n",
    "    for t_ in range(T_-1):\n",
    "        qs_ = np.zeros((N_,))\n",
    "        for n_ in range(N_):\n",
    "            context_ = context_distribution_.particles[n_]\n",
    "            c_local_ = {\"context_distribution\":\n",
    "                        ConstantDistribution(dim=5,\n",
    "                                             constant_vector=context_)\n",
    "                        }\n",
    "            env_ = cMDPWhited(config=c_local_)\n",
    "            solver_ = VITrainer(env=env_,\n",
    "                                config=c_trainer_)\n",
    "            solver_.train()\n",
    "            obs_ = env_.reset()\n",
    "            if t_ > 0:\n",
    "                env_.mdp.state = state_arr_[n_]\n",
    "                obs_ = np.concatenate(\n",
    "                    (np.array(env_.mdp.state), context_), axis=0).flatten()\n",
    "            action_ = solver_.compute_single_action(obs_)\n",
    "            obs_, reward_, _, _ = env_.step(action_)\n",
    "            # estimate likelihood if r >= 1\n",
    "            action_arr_[n_] = action_\n",
    "            q = env_.likelihood_rho(gt_obs_arr_[t_], action_arr_[\n",
    "                                n_], gt_obs_arr_[t_+1], reward_)\n",
    "            qs_[n_] = q\n",
    "            state_arr_[n_] = np.copy(env_.mdp.state)\n",
    "            if n_ % 100 == 0:\n",
    "                print(\"%s %s\" % (\"particle\", n_))\n",
    "        if t_ >= 1:\n",
    "            # truncated importance sampling; [https://arxiv.org/pdf/1905.09800.pdf]\n",
    "            qs_ = np.clip(qs_, 0, np.percentile(qs_, 90))\n",
    "            if qs_.sum() == 0:\n",
    "                continue\n",
    "            qs_ = qs_ / qs_.sum()\n",
    "            resample_index_ = context_distribution_.resample_particles_from_probability(\n",
    "                p=qs_)\n",
    "            p_temp_ = context_distribution_.particles\n",
    "            p_noise_ = np.random.normal(\n",
    "                loc=0, scale=p_temp_.std(axis=0), size=p_temp_.shape) * 0.1\n",
    "            context_distribution_.particles += p_noise_\n",
    "            context_distribution_.particles = np.clip(\n",
    "                context_distribution_.particles, 0.0, 1.0)\n",
    "            state_arr_ = state_arr_[resample_index_]\n",
    "            action_arr_ = action_arr_[resample_index_]\n",
    "            print(\"%s %s %s %s\" % (\"round\", t_, \"posterior mean\",\n",
    "                         context_distribution_.particles[:, 3].mean()))\n",
    "        context_history_ += [context_distribution_.particles.copy()]\n",
    "    return context_history_, context_distribution_\n"
   ]
  },
  {
   "cell_type": "code",
   "execution_count": 5,
   "metadata": {},
   "outputs": [
    {
     "name": "stdout",
     "output_type": "stream",
     "text": [
      "simulate trajectory\n"
     ]
    }
   ],
   "source": [
    "N = 500\n",
    "T = 50\n",
    "which_param = 3\n",
    "\n",
    "print(\"simulate trajectory\")\n",
    "gt_obs_arr, gt_act_arr, gt_rew_arr = get_rollouts(solver_vi, config=c_sim)\n",
    "\n",
    "gamma = np.ones((N,)) * 0.98\n",
    "delta = np.ones((N,)) * 0.15\n",
    "# theta = np.random.uniform(0.4, 0.8, size=(N,))\n",
    "theta = np.ones((N,)) * 0.7\n",
    "# rho = np.ones((N,)) * 0.7\n",
    "rho = np.random.uniform(0.4, 0.8, size=(N,))\n",
    "sigma = np.ones((N,)) * 0.15\n",
    "# sigma = np.random.uniform(0.05, 0.5, size=(N,))\n",
    "\n",
    "context_particles = np.abs(np.vstack((gamma, delta, theta, rho, sigma)).T)\n",
    "context_distribution = ParticleDistribution(\n",
    "    dim=5, particles=context_particles, n_particles=N)"
   ]
  },
  {
   "cell_type": "code",
   "execution_count": 7,
   "metadata": {},
   "outputs": [
    {
     "data": {
      "text/plain": [
       "(100, 7)"
      ]
     },
     "execution_count": 7,
     "metadata": {},
     "output_type": "execute_result"
    }
   ],
   "source": [
    "gt_obs_arr.shape"
   ]
  },
  {
   "cell_type": "code",
   "execution_count": 8,
   "metadata": {},
   "outputs": [
    {
     "name": "stdout",
     "output_type": "stream",
     "text": [
      "begin estimation\n",
      "particle 0\n",
      "particle 100\n",
      "particle 200\n",
      "particle 300\n",
      "particle 400\n",
      "particle 0\n",
      "particle 100\n",
      "particle 200\n",
      "particle 300\n",
      "particle 400\n",
      "round 1 posterior mean 0.6250099117962252\n",
      "particle 0\n",
      "particle 100\n",
      "particle 200\n",
      "particle 300\n",
      "particle 400\n",
      "round 2 posterior mean 0.6272762326274901\n",
      "particle 0\n",
      "particle 100\n",
      "particle 200\n",
      "particle 300\n",
      "particle 400\n",
      "round 3 posterior mean 0.6277172212844799\n",
      "particle 0\n",
      "particle 100\n",
      "particle 200\n",
      "particle 300\n",
      "particle 400\n",
      "round 4 posterior mean 0.6296440014298803\n",
      "particle 0\n",
      "particle 100\n",
      "particle 200\n",
      "particle 300\n",
      "particle 400\n",
      "round 5 posterior mean 0.6328160582245114\n",
      "particle 0\n",
      "particle 100\n",
      "particle 200\n",
      "particle 300\n",
      "particle 400\n",
      "round 6 posterior mean 0.6363770930586576\n",
      "particle 0\n",
      "particle 100\n"
     ]
    },
    {
     "ename": "KeyboardInterrupt",
     "evalue": "",
     "output_type": "error",
     "traceback": [
      "\u001b[1;31m---------------------------------------------------------------------------\u001b[0m",
      "\u001b[1;31mKeyboardInterrupt\u001b[0m                         Traceback (most recent call last)",
      "\u001b[1;32m<ipython-input-8-98e45ec075c6>\u001b[0m in \u001b[0;36m<module>\u001b[1;34m\u001b[0m\n\u001b[0;32m      1\u001b[0m \u001b[0mT\u001b[0m\u001b[1;33m=\u001b[0m\u001b[1;36m15\u001b[0m\u001b[1;33m\u001b[0m\u001b[1;33m\u001b[0m\u001b[0m\n\u001b[0;32m      2\u001b[0m \u001b[0mprint\u001b[0m\u001b[1;33m(\u001b[0m\u001b[1;34m\"begin estimation\"\u001b[0m\u001b[1;33m)\u001b[0m\u001b[1;33m\u001b[0m\u001b[1;33m\u001b[0m\u001b[0m\n\u001b[1;32m----> 3\u001b[1;33m context_history_vi, _ = filter_context(context_distribution,\n\u001b[0m\u001b[0;32m      4\u001b[0m                                        \u001b[0mgt_obs_arr\u001b[0m\u001b[1;33m,\u001b[0m\u001b[1;33m\u001b[0m\u001b[1;33m\u001b[0m\u001b[0m\n\u001b[0;32m      5\u001b[0m                                        \u001b[0mT\u001b[0m\u001b[1;33m,\u001b[0m\u001b[1;33m\u001b[0m\u001b[1;33m\u001b[0m\u001b[0m\n",
      "\u001b[1;32m<ipython-input-4-54851e520ef7>\u001b[0m in \u001b[0;36mfilter_context\u001b[1;34m(context_distribution_, gt_obs_arr_, T_, N_, c_trainer_)\u001b[0m\n\u001b[0;32m     19\u001b[0m             solver_ = VITrainer(env=env_,\n\u001b[0;32m     20\u001b[0m                                 config=c_trainer_)\n\u001b[1;32m---> 21\u001b[1;33m             \u001b[0msolver_\u001b[0m\u001b[1;33m.\u001b[0m\u001b[0mtrain\u001b[0m\u001b[1;33m(\u001b[0m\u001b[1;33m)\u001b[0m\u001b[1;33m\u001b[0m\u001b[1;33m\u001b[0m\u001b[0m\n\u001b[0m\u001b[0;32m     22\u001b[0m             \u001b[0mobs_\u001b[0m \u001b[1;33m=\u001b[0m \u001b[0menv_\u001b[0m\u001b[1;33m.\u001b[0m\u001b[0mreset\u001b[0m\u001b[1;33m(\u001b[0m\u001b[1;33m)\u001b[0m\u001b[1;33m\u001b[0m\u001b[1;33m\u001b[0m\u001b[0m\n\u001b[0;32m     23\u001b[0m             \u001b[1;32mif\u001b[0m \u001b[0mt_\u001b[0m \u001b[1;33m>\u001b[0m \u001b[1;36m0\u001b[0m\u001b[1;33m:\u001b[0m\u001b[1;33m\u001b[0m\u001b[1;33m\u001b[0m\u001b[0m\n",
      "\u001b[1;32mc:\\Users\\ZhenghaoJiang\\Documents\\GitHub\\zhenghao_cmdp\\solver\\value_iteration.py\u001b[0m in \u001b[0;36mtrain\u001b[1;34m(self)\u001b[0m\n\u001b[0;32m     89\u001b[0m                         \u001b[1;32mfor\u001b[0m \u001b[0mn\u001b[0m \u001b[1;32min\u001b[0m \u001b[0mrange\u001b[0m\u001b[1;33m(\u001b[0m\u001b[1;36m0\u001b[0m\u001b[1;33m,\u001b[0m \u001b[0mznpts\u001b[0m\u001b[1;33m)\u001b[0m\u001b[1;33m:\u001b[0m\u001b[1;33m\u001b[0m\u001b[1;33m\u001b[0m\u001b[0m\n\u001b[0;32m     90\u001b[0m                             \u001b[1;31m# sum over all possible value of z(t+1) with Markov probs\u001b[0m\u001b[1;33m\u001b[0m\u001b[1;33m\u001b[0m\u001b[1;33m\u001b[0m\u001b[0m\n\u001b[1;32m---> 91\u001b[1;33m                             \u001b[0mval\u001b[0m \u001b[1;33m=\u001b[0m \u001b[0mval\u001b[0m \u001b[1;33m+\u001b[0m \u001b[0mPimat\u001b[0m\u001b[1;33m[\u001b[0m\u001b[0mn\u001b[0m\u001b[1;33m,\u001b[0m \u001b[0mj\u001b[0m\u001b[1;33m]\u001b[0m\u001b[1;33m*\u001b[0m\u001b[0mVF\u001b[0m\u001b[1;33m[\u001b[0m\u001b[0mm\u001b[0m\u001b[1;33m,\u001b[0m \u001b[0mn\u001b[0m\u001b[1;33m]\u001b[0m\u001b[1;33m/\u001b[0m\u001b[1;33m(\u001b[0m\u001b[1;36m1\u001b[0m\u001b[1;33m+\u001b[0m\u001b[0mr\u001b[0m\u001b[1;33m)\u001b[0m\u001b[1;33m\u001b[0m\u001b[1;33m\u001b[0m\u001b[0m\n\u001b[0m\u001b[0;32m     92\u001b[0m                             \u001b[1;31m# if this exceeds previous maximum do replacements\u001b[0m\u001b[1;33m\u001b[0m\u001b[1;33m\u001b[0m\u001b[1;33m\u001b[0m\u001b[0m\n\u001b[0;32m     93\u001b[0m                         \u001b[1;32mif\u001b[0m \u001b[0mval\u001b[0m \u001b[1;33m>\u001b[0m \u001b[0mmaxval\u001b[0m\u001b[1;33m:\u001b[0m\u001b[1;33m\u001b[0m\u001b[1;33m\u001b[0m\u001b[0m\n",
      "\u001b[1;31mKeyboardInterrupt\u001b[0m: "
     ]
    }
   ],
   "source": [
    "T=50\n",
    "print(\"begin estimation\")\n",
    "context_history_vi, _ = filter_context(context_distribution,\n",
    "                                       gt_obs_arr,\n",
    "                                       T,\n",
    "                                       N,\n",
    "                                       c_trainer\n",
    "                                       )\n",
    "context = context_history_vi[-1][:, which_param]"
   ]
  },
  {
   "cell_type": "code",
   "execution_count": 9,
   "metadata": {},
   "outputs": [
    {
     "ename": "NameError",
     "evalue": "name 'context' is not defined",
     "output_type": "error",
     "traceback": [
      "\u001b[1;31m---------------------------------------------------------------------------\u001b[0m",
      "\u001b[1;31mNameError\u001b[0m                                 Traceback (most recent call last)",
      "\u001b[1;32m<ipython-input-9-ab9cde5e3727>\u001b[0m in \u001b[0;36m<module>\u001b[1;34m\u001b[0m\n\u001b[1;32m----> 1\u001b[1;33m \u001b[0mcontext\u001b[0m\u001b[1;33m\u001b[0m\u001b[1;33m\u001b[0m\u001b[0m\n\u001b[0m",
      "\u001b[1;31mNameError\u001b[0m: name 'context' is not defined"
     ]
    }
   ],
   "source": [
    "context"
   ]
  },
  {
   "cell_type": "code",
   "execution_count": 8,
   "metadata": {},
   "outputs": [
    {
     "data": {
      "image/png": "[encoded data removed]",
      "text/plain": [
       "<Figure size 432x288 with 1 Axes>"
      ]
     },
     "metadata": {
      "needs_background": "light"
     },
     "output_type": "display_data"
    }
   ],
   "source": [
    "plt.hist(context)\n",
    "plt.show()"
   ]
  },
  {
   "cell_type": "markdown",
   "metadata": {},
   "source": [
    "------"
   ]
  },
  {
   "cell_type": "code",
   "execution_count": 9,
   "metadata": {},
   "outputs": [
    {
     "data": {
      "image/png": "[encoded data removed]",
      "text/plain": [
       "<Figure size 432x288 with 1 Axes>"
      ]
     },
     "metadata": {
      "needs_background": "light"
     },
     "output_type": "display_data"
    }
   ],
   "source": [
    "plt.hist(rho)\n",
    "plt.show()"
   ]
  }
 ],
 "metadata": {
  "kernelspec": {
   "display_name": "Python 3.8.8 ('base')",
   "language": "python",
   "name": "python3"
  },
  "language_info": {
   "codemirror_mode": {
    "name": "ipython",
    "version": 3
   },
   "file_extension": ".py",
   "mimetype": "text/x-python",
   "name": "python",
   "nbconvert_exporter": "python",
   "pygments_lexer": "ipython3",
   "version": "3.8.8"
  },
  "orig_nbformat": 4,
  "vscode": {
   "interpreter": {
    "hash": "aa1dce0603ccdd30c812e3dafa075ff28fc9755f3afb2f3e9a9fb930dfa519a5"
   }
  }
 },
 "nbformat": 4,
 "nbformat_minor": 2
}
