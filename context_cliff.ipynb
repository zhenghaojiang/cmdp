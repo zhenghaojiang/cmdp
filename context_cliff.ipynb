{
 "cells": [
  {
   "cell_type": "code",
   "execution_count": 1,
   "metadata": {
    "tags": []
   },
   "outputs": [],
   "source": [
    "import matplotlib.pyplot as plt\n",
    "from matplotlib import animation\n",
    "import numpy as np\n",
    "import ray\n",
    "from ray.rllib.agents import ppo, a3c, dqn, sac\n",
    "\n",
    "from mdps.cliff import ContextualCliff\n",
    "from utils.distributions import ConstantDistribution, ParticleDistribution, UniformDistribution"
   ]
  },
  {
   "cell_type": "code",
   "execution_count": 2,
   "metadata": {
    "collapsed": false,
    "jupyter": {
     "outputs_hidden": false
    },
    "pycharm": {
     "name": "#%%\n"
    }
   },
   "outputs": [],
   "source": [
    "# some utils used later\n",
    "\n",
    "def prepare_animation(bar_container_, context_history_):\n",
    "    \"\"\"Used for animated plotting sampling precedure\"\"\"\n",
    "    def animate(frame_number, data=context_history_):\n",
    "        # simulate new data coming in\n",
    "        x = data[frame_number][:, 1]\n",
    "        n, _ = np.histogram(x, HIST_BINS)\n",
    "        plt.title(f'{frame_number} posterior mean: {round(x.mean(), 5)}')\n",
    "        for count, rect in zip(n, bar_container_.patches):\n",
    "            rect.set_height(count)\n",
    "        return bar_container_.patches\n",
    "\n",
    "    return animate\n",
    "\n",
    "\n",
    "# collect expert rollout\n",
    "\n",
    "def get_rollouts(solver_, config):\n",
    "    \"\"\"Generate rollouts from a given solver and MDP(c)\"\"\"\n",
    "    env_ = ContextualCliff(config=config)\n",
    "    done_ = False\n",
    "    obs_ = env_.reset()\n",
    "    # run until episode ends\n",
    "    gt_obs_arr_ = obs_\n",
    "    gt_act_arr_ = None\n",
    "    gt_rew_arr_ = None\n",
    "    while not done_:\n",
    "        action_ = solver_.compute_single_action(obs_)\n",
    "        obs_, rewawrd_, done_, _ = env_.step(action_)\n",
    "        gt_obs_arr_ = np.vstack((gt_obs_arr_, obs_))\n",
    "        if gt_act_arr_ is None:\n",
    "            gt_act_arr_ = [action_]\n",
    "            gt_rew_arr_ = [rewawrd_]\n",
    "        else:\n",
    "            gt_act_arr_ += [action_]\n",
    "            gt_rew_arr_ += [rewawrd_]\n",
    "\n",
    "    gt_act_arr_ = np.array(gt_act_arr_)\n",
    "    gt_rew_arr_ = np.array(gt_rew_arr_)\n",
    "    return gt_obs_arr_[1:,:], gt_act_arr_, gt_rew_arr_\n",
    "\n",
    "def plot_rollouts(gt_obs_arr_, gt_act_arr_):\n",
    "    \"\"\"Plot generated rollouts\"\"\"\n",
    "    fig_, ax_1 = plt.subplots()\n",
    "    fig_.set_size_inches(10, 6, forward=True)\n",
    "\n",
    "    x = np.arange(start=0, stop=gt_obs_arr_.shape[0])\n",
    "    ax_2 = ax_1.twinx()\n",
    "    ax_1.plot(x, gt_obs_arr_[:, 0], 'r-')\n",
    "    ax_2.plot(x, gt_act_arr_, 'b-', alpha=0.3)\n",
    "\n",
    "    ax_1.set_xlabel('time step')\n",
    "    ax_1.set_ylabel('Position (x)', color='r')\n",
    "    ax_2.set_ylabel('Action', color='b')\n",
    "    plt.title('sample observations and actions')\n",
    "    plt.show()"
   ]
  },
  {
   "cell_type": "markdown",
   "metadata": {
    "pycharm": {
     "name": "#%% md\n"
    }
   },
   "source": [
    "# Contextual \"cliff\"\n",
    "\n",
    "This notebook studies using particle filtering to estimate the context parameters of a standard `Cliff` environment in `mdps.cliff`.\n",
    "\n",
    "The `Cliff` environment has a cart that chooses either to go left or right for a `step_size`. It starts at the `mid_point` of the `right_end` and the `left_end`, and it receives a reward proportional to the power (default set to 2) of its current location, `x`. If it \"falls off the cliff\" from the left or right end, however, it receives a highly negative reward and the episode ends. Also, there are noise and drift terms, and the state-transition equation of the position `x` is (where `action` is 0 or 1 for moving left or right):\n",
    "\\\n",
    "$x_{t+1} = N(0, \\text{noise}) - \\text{drift} * x + 2 * (\\text{action}-0.5) * \\text{stepsize}$\n",
    "\n",
    "Thus, the goal of the cart is to keep its position `x` as large as possible (i.e. close to the larger end) and in the meantime keep a distance to that end to prevent accidentally falling off due to the transition noise.\n",
    "\n",
    "The context params are: `(left_bound, right_bound, pow, step_size, noise, drift)`."
   ]
  },
  {
   "cell_type": "markdown",
   "metadata": {
    "pycharm": {
     "name": "#%% md\n"
    }
   },
   "source": [
    "# Set target\n",
    "\n",
    "We first create a target config, $c$. This will be the $MDP(c)$ the expert uses to generate the observational data."
   ]
  },
  {
   "cell_type": "code",
   "execution_count": 3,
   "metadata": {
    "collapsed": false,
    "jupyter": {
     "outputs_hidden": false
    },
    "pycharm": {
     "name": "#%%\n"
    }
   },
   "outputs": [],
   "source": [
    "# true (expert) context: (left_bound, right_bound, pow, step_size, noise, drift) =\n",
    "#                         [0.0, 2.0, 2.0, 0.05, 0.05, 0.0]\n",
    "c = {'context_distribution':\n",
    "         ConstantDistribution(dim=6,\n",
    "                              constant_vector=np.array([0.0, 2, 2, 0.05, 0.05, 0.0]))}"
   ]
  },
  {
   "cell_type": "markdown",
   "metadata": {
    "pycharm": {
     "name": "#%% md\n"
    }
   },
   "source": [
    "First, train an expert that masters this context."
   ]
  },
  {
   "cell_type": "markdown",
   "metadata": {},
   "source": [
    "## Try different RL algorithms"
   ]
  },
  {
   "cell_type": "markdown",
   "metadata": {},
   "source": [
    "### 1. ppo"
   ]
  },
  {
   "cell_type": "code",
   "execution_count": 4,
   "metadata": {
    "collapsed": false,
    "jupyter": {
     "outputs_hidden": false
    },
    "pycharm": {
     "name": "#%%\n"
    }
   },
   "outputs": [
    {
     "name": "stderr",
     "output_type": "stream",
     "text": [
      "2022-05-30 11:20:18,321\tINFO ppo.py:166 -- In multi-agent mode, policies will be optimized sequentially by the multi-GPU optimizer. Consider setting simple_optimizer=True if this doesn't work for you.\n",
      "2022-05-30 11:20:18,321\tINFO trainer.py:743 -- Current log_level is WARN. For more information, set 'log_level': 'INFO' / 'DEBUG' or use the -v and -vv flags.\n",
      "2022-05-30 11:20:20,511\tWARNING util.py:57 -- Install gputil for GPU system monitoring.\n"
     ]
    },
    {
     "name": "stdout",
     "output_type": "stream",
     "text": [
      "0 -91.764874577263\n",
      "5 62.08520180995162\n",
      "10 163.90193501304168\n",
      "15 153.37449993633317\n",
      "20 172.87536600576732\n"
     ]
    }
   ],
   "source": [
    "ray.shutdown()\n",
    "ray.init()\n",
    "expert = ppo.PPOTrainer(env=ContextualCliff, config={\n",
    "    \"env_config\": c,\n",
    "    \"framework\": \"torch\",  # config to pass to env class\n",
    "})\n",
    "\n",
    "rews = []\n",
    "for eps in range(25):\n",
    "    res = expert.train()\n",
    "    if eps % 5 == 0:\n",
    "        print(eps, res['episode_reward_mean'])\n",
    "    rews += [res['episode_reward_mean']]"
   ]
  },
  {
   "cell_type": "code",
   "execution_count": 29,
   "metadata": {
    "collapsed": false,
    "jupyter": {
     "outputs_hidden": false
    },
    "pycharm": {
     "name": "#%%\n"
    }
   },
   "outputs": [
    {
     "data": {
      "image/png": "[encoded data removed]",
      "text/plain": [
       "<Figure size 720x432 with 2 Axes>"
      ]
     },
     "metadata": {
      "needs_background": "light"
     },
     "output_type": "display_data"
    }
   ],
   "source": [
    "# collect expert rollout\n",
    "gt_obs_arr, gt_act_arr, _ = get_rollouts(expert, config=c)\n",
    "plot_rollouts(gt_obs_arr, gt_act_arr)"
   ]
  },
  {
   "cell_type": "markdown",
   "metadata": {},
   "source": [
    "### 2. a3c"
   ]
  },
  {
   "cell_type": "code",
   "execution_count": 57,
   "metadata": {},
   "outputs": [
    {
     "name": "stderr",
     "output_type": "stream",
     "text": [
      "2022-03-15 21:16:58,470\tWARNING deprecation.py:45 -- DeprecationWarning: `convert_to_non_torch_type` has been deprecated. Use `ray/rllib/utils/numpy.py::convert_to_numpy` instead. This will raise an error in the future!\n",
      "2022-03-15 21:16:58,476\tWARNING util.py:57 -- Install gputil for GPU system monitoring.\n",
      " pid=65436)\u001b[0m 2022-03-15 21:16:58,449\tWARNING deprecation.py:45 -- DeprecationWarning: `convert_to_non_torch_type` has been deprecated. Use `ray/rllib/utils/numpy.py::convert_to_numpy` instead. This will raise an error in the future!\n"
     ]
    },
    {
     "name": "stdout",
     "output_type": "stream",
     "text": [
      "0 -99.98967049924953\n",
      "5 -54.78545344075454\n",
      "10 -22.68790286355318\n",
      "15 -16.127901624432113\n",
      "20 -12.444555997283794\n"
     ]
    }
   ],
   "source": [
    "ray.shutdown()\n",
    "ray.init()\n",
    "expert_a3c = a3c.A3CTrainer(env=ContextualCliff, config={\n",
    "    \"env_config\": c,\n",
    "    \"framework\": \"torch\",  # config to pass to env class\n",
    "})\n",
    "\n",
    "rews = []\n",
    "for eps in range(25):\n",
    "    res = expert_a3c.train()\n",
    "    if eps % 5 == 0:\n",
    "        print(eps, res['episode_reward_mean'])\n",
    "    rews += [res['episode_reward_mean']]"
   ]
  },
  {
   "cell_type": "markdown",
   "metadata": {},
   "source": [
    "### 3. dqn"
   ]
  },
  {
   "cell_type": "code",
   "execution_count": 58,
   "metadata": {},
   "outputs": [
    {
     "name": "stderr",
     "output_type": "stream",
     "text": [
      "2022-03-15 21:19:08,660\tWARNING util.py:57 -- Install gputil for GPU system monitoring.\n"
     ]
    },
    {
     "name": "stdout",
     "output_type": "stream",
     "text": [
      "0 -92.80788991949348\n",
      "5 -50.57770169947663\n",
      "10 -28.17314884462317\n",
      "15 66.84933691192397\n",
      "20 145.34686428038333\n"
     ]
    }
   ],
   "source": [
    "ray.shutdown()\n",
    "ray.init()\n",
    "expert_dqn = dqn.DQNTrainer(env=ContextualCliff, config={\n",
    "    \"env_config\": c,\n",
    "    \"framework\": \"torch\",  # config to pass to env class\n",
    "})\n",
    "\n",
    "rews = []\n",
    "for eps in range(25):\n",
    "    res = expert_dqn.train()\n",
    "    if eps % 5 == 0:\n",
    "        print(eps, res['episode_reward_mean'])\n",
    "    rews += [res['episode_reward_mean']]"
   ]
  },
  {
   "cell_type": "markdown",
   "metadata": {},
   "source": [
    "### 4.sac"
   ]
  },
  {
   "cell_type": "code",
   "execution_count": 59,
   "metadata": {},
   "outputs": [
    {
     "name": "stderr",
     "output_type": "stream",
     "text": [
      "2022-03-15 21:20:45,417\tWARNING util.py:57 -- Install gputil for GPU system monitoring.\n"
     ]
    },
    {
     "name": "stdout",
     "output_type": "stream",
     "text": [
      "0 -91.62630750718465\n",
      "5 -85.87037328636102\n",
      "10 -80.03772658017724\n",
      "15 -73.3718669013989\n",
      "20 -65.31416092048401\n"
     ]
    }
   ],
   "source": [
    "ray.shutdown()\n",
    "ray.init()\n",
    "expert_sac = sac.SACTrainer(env=ContextualCliff, config={\n",
    "    \"env_config\": c,\n",
    "    \"framework\": \"torch\",  # config to pass to env class\n",
    "})\n",
    "\n",
    "rews = []\n",
    "for eps in range(25):\n",
    "    res = expert_sac.train()\n",
    "    if eps % 5 == 0:\n",
    "        print(eps, res['episode_reward_mean'])\n",
    "    rews += [res['episode_reward_mean']]"
   ]
  },
  {
   "cell_type": "code",
   "execution_count": 246,
   "metadata": {},
   "outputs": [],
   "source": [
    "gt_obs_arr, gt_act_arr, gt_rew_arr = get_rollouts(expert, config=c)"
   ]
  },
  {
   "cell_type": "code",
   "execution_count": 30,
   "metadata": {},
   "outputs": [
    {
     "name": "stdout",
     "output_type": "stream",
     "text": [
      "162.81253202171098\n",
      "85.548\n"
     ]
    },
    {
     "name": "stderr",
     "output_type": "stream",
     "text": [
      "2022-05-31 13:38:11,255\tWARNING worker.py:1245 -- The node with node id: 167c1ddb9ebf99ac2c73252676ac6217eeae22de40ffd06bdbee7f12 and ip: 127.0.0.1 has been marked dead because the detector has missed too many heartbeats from it. This can happen when a raylet crashes unexpectedly or has lagging heartbeats.\n",
      "\u001b[2m\u001b[36m(pid=None)\u001b[0m [2022-05-31 13:38:11,268 C 55044 55604] node_manager.cc:809: [Timeout] Exiting because this node manager has mistakenly been marked as dead by the GCS: GCS didn't receive heartbeats from this node for 30000 ms. This is likely because the machine or raylet has become overloaded.\n",
      "\u001b[2m\u001b[36m(pid=None)\u001b[0m *** StackTrace Information ***\n",
      "\u001b[2m\u001b[36m(pid=None)\u001b[0m     BaseThreadInitThunk\n",
      "\u001b[2m\u001b[36m(pid=None)\u001b[0m     RtlUserThreadStart\n",
      "\u001b[2m\u001b[36m(pid=None)\u001b[0m \n"
     ]
    },
    {
     "ename": "",
     "evalue": "",
     "output_type": "error",
     "traceback": [
      "\u001b[1;31mThe Kernel crashed while executing code in the the current cell or a previous cell. Please review the code in the cell(s) to identify a possible cause of the failure. Click <a href='https://aka.ms/vscodeJupyterKernelCrash'>here</a> for more info. View Jupyter <a href='command:jupyter.viewOutput'>log</a> for further details."
     ]
    }
   ],
   "source": [
    "r = np.zeros(500)\n",
    "len = np.zeros(500)\n",
    "for i in range(500):\n",
    "    gt_obs_arr, gt_act_arr, gt_rew_arr = get_rollouts(expert, config=c)\n",
    "    r[i] = sum(gt_rew_arr)\n",
    "    len[i] = gt_act_arr.shape[0]\n",
    "print(np.mean(r))\n",
    "print(np.mean(len))"
   ]
  },
  {
   "cell_type": "code",
   "execution_count": 245,
   "metadata": {},
   "outputs": [
    {
     "data": {
      "image/png": "[encoded data removed]",
      "text/plain": [
       "<Figure size 864x576 with 2 Axes>"
      ]
     },
     "metadata": {
      "needs_background": "light"
     },
     "output_type": "display_data"
    }
   ],
   "source": [
    "fig, ax_1 = plt.subplots()\n",
    "fig.set_size_inches(12, 8, forward=True)\n",
    "\n",
    "x = np.arange(start=0, stop=gt_obs_arr.shape[0])\n",
    "ax_2 = ax_1.twinx()\n",
    "ax_1.plot(x, gt_obs_arr[:, 0], 'r-')\n",
    "ax_2.plot(x, gt_act_arr, 'b-', alpha=0.3)\n",
    "\n",
    "ax_1.set_xlabel('time step')\n",
    "ax_1.set_ylabel('Position (x)', color='r')\n",
    "ax_2.set_ylabel('Action', color='b')\n",
    "plt.title('sample observations and actions')\n",
    "# plt.savefig('sac.pdf')\n",
    "plt.show()"
   ]
  },
  {
   "cell_type": "markdown",
   "metadata": {},
   "source": [
    "---"
   ]
  },
  {
   "cell_type": "code",
   "execution_count": 19,
   "metadata": {
    "collapsed": false,
    "pycharm": {
     "name": "#%%\n"
    }
   },
   "outputs": [],
   "source": [
    "np.save(\"gtobs.npy\", gt_obs_arr)\n",
    "np.save(\"gtact.npy\", gt_act_arr)"
   ]
  },
  {
   "cell_type": "code",
   "execution_count": 35,
   "metadata": {
    "collapsed": false,
    "pycharm": {
     "name": "#%%\n"
    }
   },
   "outputs": [],
   "source": [
    "gt_act_arr = np.load(\"gtact.npy\")\n",
    "gt_obs_arr = np.load(\"gtobs.npy\")"
   ]
  },
  {
   "cell_type": "markdown",
   "metadata": {
    "pycharm": {
     "name": "#%% md\n"
    }
   },
   "source": [
    "## Exact context\n",
    "\n",
    "We first train a RL solver only on the correct context for particle filtering. We have already done this so we can directly use the expert solver."
   ]
  },
  {
   "cell_type": "code",
   "execution_count": 7,
   "metadata": {
    "collapsed": false,
    "jupyter": {
     "outputs_hidden": false
    },
    "pycharm": {
     "name": "#%%\n"
    }
   },
   "outputs": [],
   "source": [
    "# true (expert) context: (left_bound, right_bound, pow, step_size, noise, drift) =\n",
    "#                       [0.0, 2.0, 2.0, 0.025, 0.05, 0.0]\n",
    "\n",
    "N = 1000\n",
    "T = 100\n",
    "left_bound = np.ones((N,)) * 0.0\n",
    "pow = np.ones((N,)) * 2\n",
    "drift = np.random.normal(loc=0.00, scale=0.001, size=(N,))\n",
    "step_size = np.ones((N,)) * 0.025"
   ]
  },
  {
   "cell_type": "code",
   "execution_count": 8,
   "metadata": {
    "collapsed": false,
    "jupyter": {
     "outputs_hidden": false
    },
    "pycharm": {
     "name": "#%%\n"
    }
   },
   "outputs": [],
   "source": [
    "def filter_context(solver_,\n",
    "                   context_distribution_,\n",
    "                   gt_obs_arr_,\n",
    "                   T_,\n",
    "                   N_\n",
    "                   ):\n",
    "    state_arr_ = np.zeros((N_,))\n",
    "    action_arr_ = np.zeros((N_,))\n",
    "    context_history_ = []\n",
    "    for t_ in range(T_):\n",
    "        # we only use the first 5 steps of the cartpole steps to reduce effect of different episode lengths\n",
    "        qs_ = np.zeros((N_,))\n",
    "        for n_ in range(N_):\n",
    "            context_ = context_distribution_.particles[n_]\n",
    "            c_local_ = {'context_distribution':\n",
    "                           ConstantDistribution(dim=6,\n",
    "                                                constant_vector=context_)}\n",
    "            env_ = ContextualCliff(config=c_local_)\n",
    "            obs_ = env_.reset()\n",
    "            if t_ > 0:\n",
    "                env_.mdp.x = state_arr_[n_]\n",
    "                obs_ = np.concatenate((np.array([env_.mdp.x]), context_), axis=0).flatten()\n",
    "            action_ = solver_.compute_single_action(obs_)\n",
    "            obs_, _, done_, _ = env_.step(action_)\n",
    "            # estimate likelihood if r >= 1\n",
    "            if t_ >= 1:\n",
    "                q = env_.likelihood(gt_obs_arr_[t_ - 1], action_arr_[n_], obs_)\n",
    "                qs_[n_] = q\n",
    "            state_arr_[n_] = np.copy(env_.mdp.x)\n",
    "            action_arr_[n_] = action_\n",
    "        if t_ >= 1:\n",
    "            # truncated importance sampling; [https://arxiv.org/pdf/1905.09800.pdf]\n",
    "            qs_ = np.clip(qs_, 0, np.percentile(qs_, 90))\n",
    "            qs_ = qs_ / qs_.sum()\n",
    "            resample_index_ = context_distribution_.resample_particles_from_probability(p=qs_)\n",
    "            p_temp_ = context_distribution_.particles\n",
    "            p_noise_ = np.random.normal(loc=0, scale=p_temp_.std(axis=0), size=p_temp_.shape) * 0.05\n",
    "            context_distribution_.particles += p_noise_\n",
    "            state_arr_ = state_arr_[resample_index_]\n",
    "            action_arr_ = action_arr_[resample_index_]\n",
    "        if t_ % 25 == 0:\n",
    "            print(\"round\", t_, \"posterior mean\", context_distribution_.particles[:, 1].mean())\n",
    "        context_history_ += [context_distribution_.particles.copy()]\n",
    "    return context_history_, context_distribution_"
   ]
  },
  {
   "cell_type": "code",
   "execution_count": 7,
   "metadata": {},
   "outputs": [],
   "source": [
    "def multi_round_context(sim_solver_,\n",
    "                        sim_config_,\n",
    "                        solver_,\n",
    "                        context_particles_,\n",
    "                        T_,\n",
    "                        N_,\n",
    "                        n_trajectory_,\n",
    "                        n_round_,\n",
    "                        which_param_\n",
    "                        ):\n",
    "    context_ = None\n",
    "    context_mean_ = None\n",
    "    for i_ in range(n_trajectory_):\n",
    "        for _ in range(10):\n",
    "            gt_obs_arr_, _ = get_rollouts(sim_solver_, config=sim_config_)\n",
    "            if gt_obs_arr_.shape[0] == 100:\n",
    "                break\n",
    "        assert gt_obs_arr_.shape[0] == 100\n",
    "        for j_ in range(n_round_):\n",
    "            context_distribution_ = ParticleDistribution(\n",
    "                dim=6, particles=context_particles_, n_particles=N_)\n",
    "            context_history_, _ = filter_context(solver_,\n",
    "                                                 context_distribution_,\n",
    "                                                 gt_obs_arr_,\n",
    "                                                 T_,\n",
    "                                                 N_\n",
    "                                                 )\n",
    "            context_curr_ = context_history_[-1][:, which_param_]\n",
    "            if context_ is None:\n",
    "                context_ = context_curr_\n",
    "                context_mean_ = [context_curr_.mean()]\n",
    "            else:\n",
    "                context_ = np.concatenate((context_, context_curr_))\n",
    "                context_mean_ += [context_curr_.mean()]\n",
    "            print(\"round\", (i_ + 1, j_ + 1))\n",
    "    context_mean_ = np.array(context_mean_)\n",
    "\n",
    "    return context_, context_mean_"
   ]
  },
  {
   "cell_type": "code",
   "execution_count": 8,
   "metadata": {},
   "outputs": [
    {
     "name": "stdout",
     "output_type": "stream",
     "text": [
      "round 0 posterior mean 2.4964584083165446\n",
      "round 25 posterior mean 2.3970673254965225\n",
      "round 50 posterior mean 2.244819903081753\n",
      "round 75 posterior mean 2.1563600483232714\n",
      "round (1, 1)\n",
      "round 0 posterior mean 2.4964584083165446\n",
      "round 25 posterior mean 2.5800730686027005\n",
      "round 50 posterior mean 2.351428712612553\n",
      "round 75 posterior mean 2.1744480275708504\n",
      "round (1, 2)\n",
      "round 0 posterior mean 2.4964584083165446\n",
      "round 25 posterior mean 2.4806359616403193\n",
      "round 50 posterior mean 2.3296425489217856\n",
      "round 75 posterior mean 2.0275676604185287\n",
      "round (1, 3)\n",
      "round 0 posterior mean 2.4964584083165446\n",
      "round 25 posterior mean 2.7368501701766426\n",
      "round 50 posterior mean 2.5346949023657825\n",
      "round 75 posterior mean 2.212735596551496\n",
      "round (2, 1)\n",
      "round 0 posterior mean 2.4964584083165446\n",
      "round 25 posterior mean 2.37246109559959\n",
      "round 50 posterior mean 2.2497923262371398\n",
      "round 75 posterior mean 2.2043641859968557\n",
      "round (2, 2)\n",
      "round 0 posterior mean 2.4964584083165446\n",
      "round 25 posterior mean 2.419919151749081\n",
      "round 50 posterior mean 2.140299816346466\n",
      "round 75 posterior mean 2.045652332059602\n",
      "round (2, 3)\n",
      "round 0 posterior mean 2.4964584083165446\n",
      "round 25 posterior mean 2.4011536145728796\n",
      "round 50 posterior mean 2.1222558442081514\n",
      "round 75 posterior mean 1.9090650412173338\n",
      "round (3, 1)\n",
      "round 0 posterior mean 2.4964584083165446\n",
      "round 25 posterior mean 2.4499173555954323\n",
      "round 50 posterior mean 2.488519681326797\n",
      "round 75 posterior mean 1.9497385523512871\n",
      "round (3, 2)\n",
      "round 0 posterior mean 2.4964584083165446\n",
      "round 25 posterior mean 2.596800425479411\n",
      "round 50 posterior mean 2.0830299875498155\n",
      "round 75 posterior mean 1.9803546051580234\n",
      "round (3, 3)\n",
      "round 0 posterior mean 2.4964584083165446\n",
      "round 25 posterior mean 2.589819580236289\n",
      "round 50 posterior mean 2.5750313221741936\n",
      "round 75 posterior mean 2.0546586099807174\n",
      "round (4, 1)\n",
      "round 0 posterior mean 2.4964584083165446\n",
      "round 25 posterior mean 2.5861270738899598\n",
      "round 50 posterior mean 2.3477172230590666\n",
      "round 75 posterior mean 2.022521185704159\n",
      "round (4, 2)\n",
      "round 0 posterior mean 2.4964584083165446\n",
      "round 25 posterior mean 2.4697803011100934\n",
      "round 50 posterior mean 2.090134901402983\n",
      "round 75 posterior mean 2.041657319325363\n",
      "round (4, 3)\n"
     ]
    }
   ],
   "source": [
    "N = 1000\n",
    "T = 100\n",
    "left_bound = np.ones((N,)) * 0.0\n",
    "pow = np.ones((N,)) * 2\n",
    "drift = np.random.normal(loc=0.00, scale=0.001, size=(N,))\n",
    "step_size = np.ones((N,)) * 0.025\n",
    "right_bound = np.random.normal(loc=2.5, scale=0.5, size=(N,))\n",
    "noise = np.ones((N,)) * 0.05\n",
    "context_particles = np.abs(np.vstack((left_bound, right_bound, pow, step_size, noise, drift)).T)\n",
    "\n",
    "c = {'context_distribution':\n",
    "         ConstantDistribution(dim=6,\n",
    "                              constant_vector=np.array([0.0, 2, 2, 0.05, 0.05, 0.0]))}\n",
    "\n",
    "context_exact_multi, context_mean_exact_multi = multi_round_context(expert,\n",
    "                                                                c,\n",
    "                                                                expert,\n",
    "                                                                context_particles,\n",
    "                                                                T,\n",
    "                                                                N,\n",
    "                                                                4,\n",
    "                                                                3,\n",
    "                                                                1)"
   ]
  },
  {
   "cell_type": "code",
   "execution_count": 10,
   "metadata": {},
   "outputs": [
    {
     "data": {
      "image/png": "[encoded data removed]",
      "text/plain": [
       "<Figure size 432x288 with 1 Axes>"
      ]
     },
     "metadata": {
      "needs_background": "light"
     },
     "output_type": "display_data"
    },
    {
     "data": {
      "image/png": "[encoded data removed]",
      "text/plain": [
       "<Figure size 432x288 with 1 Axes>"
      ]
     },
     "metadata": {
      "needs_background": "light"
     },
     "output_type": "display_data"
    }
   ],
   "source": [
    "plt.hist(context_exact_multi, bins=100)\n",
    "plt.show()\n",
    "plt.boxplot(context_mean_exact_multi)\n",
    "plt.show()"
   ]
  },
  {
   "cell_type": "code",
   "execution_count": 11,
   "metadata": {},
   "outputs": [],
   "source": [
    "np.save(\"context_exact_cliff.npy\", context_exact_multi)\n",
    "np.save(\"context_mean_exact_cliff.npy\", context_mean_exact_multi)"
   ]
  },
  {
   "cell_type": "code",
   "execution_count": 19,
   "metadata": {
    "collapsed": false,
    "jupyter": {
     "outputs_hidden": false
    },
    "pycharm": {
     "name": "#%%\n"
    }
   },
   "outputs": [
    {
     "name": "stdout",
     "output_type": "stream",
     "text": [
      "round 0 posterior mean 2.468266092078936\n",
      "round 25 posterior mean 2.503267694310116\n",
      "round 50 posterior mean 2.3131126320445974\n",
      "round 75 posterior mean 2.0042735627545984\n"
     ]
    }
   ],
   "source": [
    "right_bound = np.random.normal(loc=2.5, scale=0.5, size=(N,))\n",
    "noise = np.ones((N,)) * 0.05\n",
    "\n",
    "context_particles = np.abs(np.vstack((left_bound, right_bound, pow, step_size, noise, drift)).T)\n",
    "context_distribution = ParticleDistribution(dim=6, particles=context_particles, n_particles=N)\n",
    "\n",
    "context_history_exact, _ = filter_context(expert,\n",
    "                                   context_distribution,\n",
    "                                   gt_obs_arr,\n",
    "                                   T,\n",
    "                                   N\n",
    "                                   )"
   ]
  },
  {
   "cell_type": "code",
   "execution_count": 20,
   "metadata": {},
   "outputs": [
    {
     "data": {
      "text/plain": [
       "1.957855446872487"
      ]
     },
     "execution_count": 20,
     "metadata": {},
     "output_type": "execute_result"
    }
   ],
   "source": [
    "context_history_exact[-1][:, 1].mean()"
   ]
  },
  {
   "cell_type": "code",
   "execution_count": null,
   "metadata": {
    "collapsed": false,
    "jupyter": {
     "outputs_hidden": false
    },
    "pycharm": {
     "name": "#%%\n"
    }
   },
   "outputs": [],
   "source": [
    "HIST_BINS = np.linspace(1, 3, 120)\n",
    "\n",
    "fig, ax = plt.subplots()\n",
    "plt.axvline(x=2.0, alpha=0.3, color='black', linestyle='--')\n",
    "plt.legend(['ground truth: 2.0'])\n",
    "_, _, bar_container = ax.hist(context_history_exact[0][:, 1], HIST_BINS, lw=1,\n",
    "                              ec=\"cyan\", fc=\"blue\", alpha=0.5)\n",
    "ax.set_ylim(top=N / 4)  # set safe limit to ensure that all data is visible.\n",
    "\n",
    "ani = animation.FuncAnimation(fig, prepare_animation(bar_container, context_history_exact),\n",
    "                              len(context_history_exact),\n",
    "                              repeat=True, blit=False, interval=100, repeat_delay=500)\n",
    "prior_mean = 2.5\n",
    "posterior_mean = round(context_history_exact[-1][:, 1].mean(), 3)\n",
    "ani.save(f'prior_{prior_mean}_posterior{posterior_mean}.mp4', dpi=300)\n",
    "plt.show()"
   ]
  },
  {
   "cell_type": "code",
   "execution_count": 10,
   "metadata": {
    "collapsed": false,
    "jupyter": {
     "outputs_hidden": false
    },
    "pycharm": {
     "name": "#%%\n"
    }
   },
   "outputs": [
    {
     "data": {
      "image/png": "[encoded data removed]",
      "text/plain": [
       "<Figure size 864x576 with 1 Axes>"
      ]
     },
     "metadata": {
      "needs_background": "light"
     },
     "output_type": "display_data"
    }
   ],
   "source": [
    "fig, ax = plt.subplots()\n",
    "HIST_BINS = np.linspace(1, 4, 80)\n",
    "ax.hist(context_history_exact[0][:, 1], HIST_BINS, lw=1,\n",
    "        ec=\"blue\", fc=\"blue\", alpha=0.5)\n",
    "ax.hist(context_history_exact[-1][:, 1], HIST_BINS, lw=1,\n",
    "        ec=\"red\", fc=\"red\", alpha=0.5)\n",
    "plt.axvline(x=2, alpha=0.3, color='black', linestyle='--')\n",
    "plt.legend(['ground truth: 2.0', 'prior', 'posterior'])\n",
    "ax.set_ylim(top=N / 5)\n",
    "fig.set_size_inches(12, 8)\n",
    "plt.title('solver trained in exactly specified context')\n",
    "plt.show()"
   ]
  },
  {
   "cell_type": "markdown",
   "metadata": {},
   "source": [
    "## Misspecified context"
   ]
  },
  {
   "cell_type": "code",
   "execution_count": 12,
   "metadata": {
    "collapsed": false,
    "jupyter": {
     "outputs_hidden": false
    },
    "pycharm": {
     "name": "#%%\n"
    }
   },
   "outputs": [
    {
     "name": "stderr",
     "output_type": "stream",
     "text": [
      "2022-03-04 13:48:53,403\tWARNING util.py:57 -- Install gputil for GPU system monitoring.\n"
     ]
    },
    {
     "name": "stdout",
     "output_type": "stream",
     "text": [
      "0 -92.28203492320135\n",
      "5 -27.125387762276322\n",
      "10 -16.621934784874732\n",
      "15 10.349761143125988\n",
      "20 15.11379922382621\n"
     ]
    }
   ],
   "source": [
    "# We reduce the right end from 2.0 to 1.5 and keep otherwise the same.\n",
    "c_mis = {'context_distribution':\n",
    "             ConstantDistribution(dim=5,\n",
    "                                  constant_vector=np.array([0.0, 1.5, 2.0, 0.025, 0.05, 0.0]))}\n",
    "\n",
    "ray.shutdown()\n",
    "ray.init()\n",
    "mis_solver = ppo.PPOTrainer(env=ContextualCliff, config={\n",
    "    \"env_config\": c_mis,\n",
    "    \"framework\": \"torch\",  # config to pass to env class\n",
    "})\n",
    "\n",
    "for eps in range(25):\n",
    "    res = mis_solver.train()\n",
    "    if eps % 5 == 0:\n",
    "        print(eps, res['episode_reward_mean'])"
   ]
  },
  {
   "cell_type": "code",
   "execution_count": null,
   "metadata": {
    "collapsed": false,
    "jupyter": {
     "outputs_hidden": false
    },
    "pycharm": {
     "name": "#%%\n"
    }
   },
   "outputs": [],
   "source": [
    "mis_obs_arr, mis_act_arr = get_rollouts(mis_solver, config=c)\n",
    "plot_rollouts(mis_obs_arr, mis_act_arr)"
   ]
  },
  {
   "cell_type": "code",
   "execution_count": 16,
   "metadata": {},
   "outputs": [
    {
     "name": "stdout",
     "output_type": "stream",
     "text": [
      "round 0 posterior mean 2.5029905945585216\n",
      "round 25 posterior mean 2.5024942190513886\n",
      "round 50 posterior mean 3.02621769925702\n",
      "round 75 posterior mean 3.123676816816164\n",
      "round (1, 1)\n",
      "round 0 posterior mean 2.5029905945585216\n",
      "round 25 posterior mean 2.427259675611128\n",
      "round 50 posterior mean 3.306438321263746\n",
      "round 75 posterior mean 3.534737146102876\n",
      "round (1, 2)\n",
      "round 0 posterior mean 2.5029905945585216\n",
      "round 25 posterior mean 2.36187628958984\n",
      "round 50 posterior mean 3.0688376792983543\n",
      "round 75 posterior mean 3.160317331428365\n",
      "round (1, 3)\n",
      "round 0 posterior mean 2.5029905945585216\n",
      "round 25 posterior mean 2.639822830602586\n",
      "round 50 posterior mean 3.076732395304567\n",
      "round 75 posterior mean 3.256380610313123\n",
      "round (2, 1)\n",
      "round 0 posterior mean 2.5029905945585216\n",
      "round 25 posterior mean 2.4920480086065013\n",
      "round 50 posterior mean 3.087919398790139\n",
      "round 75 posterior mean 3.3714762956882733\n",
      "round (2, 2)\n",
      "round 0 posterior mean 2.5029905945585216\n",
      "round 25 posterior mean 2.495353150722204\n",
      "round 50 posterior mean 2.759348768116406\n",
      "round 75 posterior mean 2.958397792761781\n",
      "round (2, 3)\n",
      "round 0 posterior mean 2.5029905945585216\n",
      "round 25 posterior mean 2.9462559012232297\n",
      "round 50 posterior mean 3.8143137194137995\n",
      "round 75 posterior mean 3.8848153574648205\n",
      "round (3, 1)\n",
      "round 0 posterior mean 2.5029905945585216\n",
      "round 25 posterior mean 3.027303294860169\n",
      "round 50 posterior mean 3.4745573426446086\n",
      "round 75 posterior mean 3.5727109279834424\n",
      "round (3, 2)\n",
      "round 0 posterior mean 2.5029905945585216\n",
      "round 25 posterior mean 2.7714204200910517\n",
      "round 50 posterior mean 3.098257450226987\n",
      "round 75 posterior mean 3.13521604851788\n",
      "round (3, 3)\n",
      "round 0 posterior mean 2.5029905945585216\n",
      "round 25 posterior mean 2.7626946355666147\n",
      "round 50 posterior mean 3.477814361881431\n",
      "round 75 posterior mean 3.4766680016526634\n",
      "round (4, 1)\n",
      "round 0 posterior mean 2.5029905945585216\n",
      "round 25 posterior mean 2.473143333976701\n",
      "round 50 posterior mean 2.9898965894004763\n",
      "round 75 posterior mean 3.091825374313058\n",
      "round (4, 2)\n",
      "round 0 posterior mean 2.5029905945585216\n",
      "round 25 posterior mean 2.7422088719199236\n",
      "round 50 posterior mean 3.2647002080584393\n",
      "round 75 posterior mean 3.4758511748885095\n",
      "round (4, 3)\n"
     ]
    }
   ],
   "source": [
    "N = 1000\n",
    "T = 100\n",
    "left_bound = np.ones((N,)) * 0.0\n",
    "pow = np.ones((N,)) * 2\n",
    "drift = np.random.normal(loc=0.00, scale=0.001, size=(N,))\n",
    "step_size = np.ones((N,)) * 0.025\n",
    "right_bound = np.random.normal(loc=2.5, scale=0.5, size=(N,))\n",
    "noise = np.ones((N,)) * 0.05\n",
    "context_particles = np.abs(np.vstack((left_bound, right_bound, pow, step_size, noise, drift)).T)\n",
    "\n",
    "c = {'context_distribution':\n",
    "         ConstantDistribution(dim=6,\n",
    "                              constant_vector=np.array([0.0, 2, 2, 0.05, 0.05, 0.0]))}\n",
    "\n",
    "context_mis_multi, context_mean_mis_multi = multi_round_context(expert,\n",
    "                                                                c,\n",
    "                                                                mis_solver,\n",
    "                                                                context_particles,\n",
    "                                                                T,\n",
    "                                                                N,\n",
    "                                                                4,\n",
    "                                                                3,\n",
    "                                                                1)"
   ]
  },
  {
   "cell_type": "code",
   "execution_count": 17,
   "metadata": {},
   "outputs": [],
   "source": [
    "np.save(\"context_mis_cliff.npy\", context_mis_multi)\n",
    "np.save(\"context_mean_mis_cliff.npy\", context_mean_mis_multi)"
   ]
  },
  {
   "cell_type": "code",
   "execution_count": null,
   "metadata": {
    "collapsed": false,
    "jupyter": {
     "outputs_hidden": false
    },
    "pycharm": {
     "name": "#%%\n"
    }
   },
   "outputs": [],
   "source": [
    "# true (expert) context: (left_bound, right_bound, pow, step_size, noise, drift) =\n",
    "#                       [0.0, 3.0, 2.0, 0.025, 0.05, 0.0]\n",
    "\n",
    "right_bound = np.random.normal(loc=2.5, scale=0.5, size=(N,))\n",
    "noise = np.ones((N,)) * 0.05\n",
    "\n",
    "context_particles = np.abs(np.vstack((left_bound, right_bound, pow, step_size, noise, drift)).T)\n",
    "context_distribution = ParticleDistribution(dim=6, particles=context_particles, n_particles=N)\n",
    "\n",
    "context_history_mis, _ = filter_context(mis_solver,\n",
    "                                       context_distribution,\n",
    "                                       gt_obs_arr,\n",
    "                                       T,\n",
    "                                       N\n",
    "                                       )"
   ]
  },
  {
   "cell_type": "code",
   "execution_count": null,
   "metadata": {
    "collapsed": false,
    "jupyter": {
     "outputs_hidden": false
    },
    "pycharm": {
     "name": "#%%\n"
    }
   },
   "outputs": [],
   "source": [
    "fig, ax = plt.subplots()\n",
    "HIST_BINS = np.linspace(1, 5, 80)\n",
    "ax.hist(context_history_mis[0][:, 1], HIST_BINS, lw=1,\n",
    "        ec=\"blue\", fc=\"blue\", alpha=0.5)\n",
    "ax.hist(context_history_mis[-1][:, 1], HIST_BINS, lw=1,\n",
    "        ec=\"red\", fc=\"red\", alpha=0.5)\n",
    "plt.axvline(x=2, alpha=0.3, color='black', linestyle='--')\n",
    "plt.legend(['ground truth: 2.0', 'prior', 'posterior'])\n",
    "ax.set_ylim(top=N / 5)\n",
    "fig.set_size_inches(12, 8)\n",
    "plt.title('solver trained in mis-specified context')\n",
    "plt.show()"
   ]
  },
  {
   "cell_type": "markdown",
   "metadata": {
    "pycharm": {
     "name": "#%% md\n"
    }
   },
   "source": [
    "# Uniformly sampled context\n",
    "\n",
    "We uniformly sample contexts during training, a common way to perform domain randomization."
   ]
  },
  {
   "cell_type": "code",
   "execution_count": 18,
   "metadata": {
    "collapsed": false,
    "jupyter": {
     "outputs_hidden": false
    },
    "pycharm": {
     "name": "#%%\n"
    }
   },
   "outputs": [],
   "source": [
    "c_uniform = {'context_distribution':\n",
    "             UniformDistribution(dim=6,\n",
    "                              lower_bound_vector=np.array([0.0, 1.0, 2, 0.05, 0.05, 0.0]),\n",
    "                              upper_bound_vector=np.array([0.0, 3.0, 2, 0.05, 0.05, 0.0]))}"
   ]
  },
  {
   "cell_type": "code",
   "execution_count": 19,
   "metadata": {
    "collapsed": false,
    "jupyter": {
     "outputs_hidden": false
    },
    "pycharm": {
     "name": "#%%\n"
    }
   },
   "outputs": [
    {
     "name": "stderr",
     "output_type": "stream",
     "text": [
      "2022-03-04 14:12:28,873\tWARNING util.py:57 -- Install gputil for GPU system monitoring.\n"
     ]
    },
    {
     "name": "stdout",
     "output_type": "stream",
     "text": [
      "0 -83.20486275437773\n",
      "5 62.46603466824669\n",
      "10 105.20568426161722\n",
      "15 151.35321652003893\n",
      "20 161.4182405746635\n"
     ]
    }
   ],
   "source": [
    "ray.shutdown()\n",
    "ray.init()\n",
    "uniform_solver = ppo.PPOTrainer(env=ContextualCliff, config={\n",
    "                                                    \"env_config\": c_uniform,\n",
    "                                                    \"framework\": \"torch\",  # config to pass to env class\n",
    "                                                })\n",
    "\n",
    "rews = []\n",
    "for eps in range(25):\n",
    "    res = uniform_solver.train()\n",
    "    if eps % 5 == 0:\n",
    "        print(eps, res['episode_reward_mean'])\n",
    "    rews += [res['episode_reward_mean']]"
   ]
  },
  {
   "cell_type": "code",
   "execution_count": null,
   "metadata": {
    "collapsed": false,
    "jupyter": {
     "outputs_hidden": false
    },
    "pycharm": {
     "name": "#%%\n"
    }
   },
   "outputs": [],
   "source": [
    "plot_rollouts(*get_rollouts(uniform_solver,\n",
    "                           config={'context_distribution':\n",
    "                                    ConstantDistribution(dim=5,\n",
    "                                    constant_vector=np.array([0.0, 1.5, 2.0, 0.05, 0.05, 0.0]))}))"
   ]
  },
  {
   "cell_type": "code",
   "execution_count": null,
   "metadata": {
    "collapsed": false,
    "jupyter": {
     "outputs_hidden": false
    },
    "pycharm": {
     "name": "#%%\n"
    }
   },
   "outputs": [],
   "source": [
    "plot_rollouts(*get_rollouts(uniform_solver,\n",
    "                           config={'context_distribution':\n",
    "                                    ConstantDistribution(dim=5,\n",
    "                                    constant_vector=np.array([0.0, 2.5, 2.0, 0.05, 0.05, 0.0]))}))"
   ]
  },
  {
   "cell_type": "code",
   "execution_count": 20,
   "metadata": {},
   "outputs": [
    {
     "name": "stdout",
     "output_type": "stream",
     "text": [
      "round 0 posterior mean 2.4838814350825156\n",
      "round 25 posterior mean 2.534370841842373\n",
      "round 50 posterior mean 2.643678567212296\n",
      "round 75 posterior mean 2.229444461438954\n",
      "round (1, 1)\n",
      "round 0 posterior mean 2.4838814350825156\n",
      "round 25 posterior mean 2.415510966317958\n",
      "round 50 posterior mean 2.709496684327101\n",
      "round 75 posterior mean 2.180493386438329\n",
      "round (1, 2)\n",
      "round 0 posterior mean 2.4838814350825156\n",
      "round 25 posterior mean 2.466978019288294\n",
      "round 50 posterior mean 2.5088229146508176\n",
      "round 75 posterior mean 2.141364622870386\n",
      "round (1, 3)\n",
      "round 0 posterior mean 2.4838814350825156\n",
      "round 25 posterior mean 2.5599297570437174\n",
      "round 50 posterior mean 2.2760055768917784\n",
      "round 75 posterior mean 2.2076870387928915\n",
      "round (2, 1)\n",
      "round 0 posterior mean 2.4838814350825156\n",
      "round 25 posterior mean 2.6769962363948743\n",
      "round 50 posterior mean 2.5519422419853006\n",
      "round 75 posterior mean 2.412343258980042\n",
      "round (2, 2)\n",
      "round 0 posterior mean 2.4838814350825156\n",
      "round 25 posterior mean 2.826538976428945\n",
      "round 50 posterior mean 2.391455109627266\n",
      "round 75 posterior mean 2.1558446510520746\n",
      "round (2, 3)\n",
      "round 0 posterior mean 2.4838814350825156\n",
      "round 25 posterior mean 2.7337521364863306\n",
      "round 50 posterior mean 2.7524201604006784\n",
      "round 75 posterior mean 2.604972769263093\n",
      "round (3, 1)\n",
      "round 0 posterior mean 2.4838814350825156\n",
      "round 25 posterior mean 2.5717463535114122\n",
      "round 50 posterior mean 2.490715334019309\n",
      "round 75 posterior mean 2.063659656831214\n",
      "round (3, 2)\n",
      "round 0 posterior mean 2.4838814350825156\n",
      "round 25 posterior mean 2.4725059081905303\n",
      "round 50 posterior mean 2.6381897876639857\n",
      "round 75 posterior mean 2.2469055152723296\n",
      "round (3, 3)\n",
      "round 0 posterior mean 2.4838814350825156\n",
      "round 25 posterior mean 2.6624664674147205\n",
      "round 50 posterior mean 2.5808843712089797\n",
      "round 75 posterior mean 2.169763305139282\n",
      "round (4, 1)\n",
      "round 0 posterior mean 2.4838814350825156\n",
      "round 25 posterior mean 2.6224904064590704\n",
      "round 50 posterior mean 2.5222776650372634\n",
      "round 75 posterior mean 2.0148018907725818\n",
      "round (4, 2)\n",
      "round 0 posterior mean 2.4838814350825156\n",
      "round 25 posterior mean 2.372290658407966\n",
      "round 50 posterior mean 2.492653361809681\n",
      "round 75 posterior mean 2.012365015116128\n",
      "round (4, 3)\n"
     ]
    }
   ],
   "source": [
    "N = 1000\n",
    "T = 100\n",
    "left_bound = np.ones((N,)) * 0.0\n",
    "pow = np.ones((N,)) * 2\n",
    "drift = np.random.normal(loc=0.00, scale=0.001, size=(N,))\n",
    "step_size = np.ones((N,)) * 0.025\n",
    "right_bound = np.random.normal(loc=2.5, scale=0.5, size=(N,))\n",
    "noise = np.ones((N,)) * 0.05\n",
    "context_particles = np.abs(np.vstack((left_bound, right_bound, pow, step_size, noise, drift)).T)\n",
    "\n",
    "c = {'context_distribution':\n",
    "         ConstantDistribution(dim=6,\n",
    "                              constant_vector=np.array([0.0, 2, 2, 0.05, 0.05, 0.0]))}\n",
    "\n",
    "context_uniform_multi, context_mean_uniform_multi = multi_round_context(expert,\n",
    "                                                                c,\n",
    "                                                                uniform_solver,\n",
    "                                                                context_particles,\n",
    "                                                                T,\n",
    "                                                                N,\n",
    "                                                                4,\n",
    "                                                                3,\n",
    "                                                                1)"
   ]
  },
  {
   "cell_type": "code",
   "execution_count": 21,
   "metadata": {},
   "outputs": [],
   "source": [
    "np.save(\"context_uniform_cliff.npy\", context_uniform_multi)\n",
    "np.save(\"context_mean_uniform_cliff.npy\", context_mean_uniform_multi)"
   ]
  },
  {
   "cell_type": "code",
   "execution_count": null,
   "metadata": {
    "collapsed": false,
    "jupyter": {
     "outputs_hidden": false
    },
    "pycharm": {
     "name": "#%%\n"
    }
   },
   "outputs": [],
   "source": [
    "right_bound = np.random.normal(loc=2.5, scale=0.5, size=(N,))\n",
    "noise = np.ones((N,)) * 0.05\n",
    "\n",
    "context_particles = np.abs(np.vstack((left_bound, right_bound, pow, step_size, noise, drift)).T)\n",
    "context_distribution = ParticleDistribution(dim=6, particles=context_particles, n_particles=N)\n",
    "\n",
    "context_history_uniform = filter_context(uniform_solver,\n",
    "                                           context_distribution,\n",
    "                                           gt_obs_arr,\n",
    "                                           T,\n",
    "                                           N\n",
    "                                           )"
   ]
  },
  {
   "cell_type": "code",
   "execution_count": null,
   "metadata": {
    "collapsed": false,
    "jupyter": {
     "outputs_hidden": false
    },
    "pycharm": {
     "name": "#%%\n"
    }
   },
   "outputs": [],
   "source": [
    "fig, ax = plt.subplots()\n",
    "HIST_BINS = np.linspace(1, 4, 80)\n",
    "ax.hist(context_history_uniform[0][:, 1], HIST_BINS, lw=1,\n",
    "        ec=\"blue\", fc=\"blue\", alpha=0.5)\n",
    "ax.hist(context_history_uniform[-1][:, 1], HIST_BINS, lw=1,\n",
    "        ec=\"red\", fc=\"red\", alpha=0.5)\n",
    "plt.axvline(x=2, alpha=0.3, color='black', linestyle='--')\n",
    "plt.legend(['ground truth: 2.0', 'prior', 'posterior'])\n",
    "ax.set_ylim(top=N / 5)\n",
    "fig.set_size_inches(12, 8)\n",
    "plt.title('solver trained in uniformly sampled context')\n",
    "plt.show()"
   ]
  },
  {
   "cell_type": "markdown",
   "metadata": {
    "pycharm": {
     "name": "#%% md\n"
    },
    "tags": []
   },
   "source": [
    "# Importance sampling for context\n",
    "\n",
    "We do training - PF filtering update - training loop."
   ]
  },
  {
   "cell_type": "code",
   "execution_count": 27,
   "metadata": {},
   "outputs": [],
   "source": [
    "def multi_round_imp_context(sim_solver_,\n",
    "                            sim_config_,\n",
    "                            context_particles_,\n",
    "                            T_,\n",
    "                            N_,\n",
    "                            n_trajectory_,\n",
    "                            n_round_,\n",
    "                            which_param_\n",
    "                            ):\n",
    "    context_ = None\n",
    "    context_mean_ = None\n",
    "    for i_ in range(n_trajectory_):\n",
    "\n",
    "        for _ in range(10):\n",
    "            gt_obs_arr_, _ = get_rollouts(sim_solver_, config=sim_config_)\n",
    "            if gt_obs_arr_.shape[0] == 100:\n",
    "                break\n",
    "        \n",
    "        assert gt_obs_arr_.shape[0] == 100\n",
    "\n",
    "        for j_ in range(n_round_):\n",
    "            imp_context_distribution_ = ParticleDistribution(dim=6, particles=context_particles_, n_particles=N_)\n",
    "\n",
    "            ray.shutdown()\n",
    "            ray.init()\n",
    "\n",
    "            imp_solver_ = ppo.PPOTrainer(env=ContextualCliff, config={\n",
    "                                                            \"env_config\":  {\"context_distribution\": imp_context_distribution_},\n",
    "                                                            \"framework\": \"torch\",\n",
    "                                                        })\n",
    "\n",
    "            for update_round in range(3):\n",
    "                # burn in training\n",
    "                if update_round == 0:\n",
    "                    for i in range(15):\n",
    "                        imp_solver_.train()\n",
    "\n",
    "                context_history_imp_, imp_context_distribution_ = filter_context(imp_solver_,\n",
    "                                                                                imp_context_distribution_,\n",
    "                                                                                gt_obs_arr_,\n",
    "                                                                                T_,\n",
    "                                                                                N_\n",
    "                                                                                )\n",
    "\n",
    "                imp_solver_.workers.foreach_worker(\n",
    "                            lambda ev: ev.foreach_env(\n",
    "                                lambda env: env.set_task(imp_context_distribution_)))\n",
    "                if update_round < 2:\n",
    "                    for _ in range(5):\n",
    "                        imp_solver_.train()\n",
    "            context_curr_ = context_history_imp_[-1][:,which_param_]\n",
    "            if context_ is None:\n",
    "                context_ = context_curr_\n",
    "                context_mean_ = [context_curr_.mean()]\n",
    "            else:\n",
    "                context_ = np.concatenate((context_, context_curr_))\n",
    "                context_mean_ += [context_curr_.mean()]\n",
    "            print(\"round\", (i_ + 1, j_ + 1))\n",
    "    context_mean_ = np.array(context_mean_)\n",
    "\n",
    "    return context_, context_mean_"
   ]
  },
  {
   "cell_type": "code",
   "execution_count": null,
   "metadata": {},
   "outputs": [],
   "source": [
    "N = 1000\n",
    "T = 100\n",
    "left_bound = np.ones((N,)) * 0.0\n",
    "pow = np.ones((N,)) * 2\n",
    "drift = np.random.normal(loc=0.00, scale=0.001, size=(N,))\n",
    "step_size = np.ones((N,)) * 0.025\n",
    "right_bound = np.random.normal(loc=2.5, scale=0.5, size=(N,))\n",
    "noise = np.ones((N,)) * 0.05\n",
    "context_particles = np.abs(np.vstack((left_bound, right_bound, pow, step_size, noise, drift)).T)\n",
    "\n",
    "c = {'context_distribution':\n",
    "         ConstantDistribution(dim=6,\n",
    "                              constant_vector=np.array([0.0, 2, 2, 0.05, 0.05, 0.0]))}\n",
    "\n",
    "context_imp_multi, context_mean_imp_multi = multi_round_imp_context(expert,\n",
    "                                                                c,\n",
    "                                                                context_particles,\n",
    "                                                                T,\n",
    "                                                                N,\n",
    "                                                                2,\n",
    "                                                                2,\n",
    "                                                                1)"
   ]
  },
  {
   "cell_type": "code",
   "execution_count": null,
   "metadata": {},
   "outputs": [],
   "source": [
    "np.save(\"context_imp_cliff.npy\", context_imp_multi)\n",
    "np.save(\"context_mean_imp_cliff.npy\", context_mean_imp_multi)"
   ]
  },
  {
   "cell_type": "code",
   "execution_count": 6,
   "metadata": {},
   "outputs": [
    {
     "name": "stderr",
     "output_type": "stream",
     "text": [
      "2022-02-15 16:03:33,701\tINFO services.py:1340 -- View the Ray dashboard at \u001b[1m\u001b[32mhttp://127.0.0.1:8265\u001b[39m\u001b[22m\n",
      "2022-02-15 16:03:34,714\tINFO ppo.py:167 -- In multi-agent mode, policies will be optimized sequentially by the multi-GPU optimizer. Consider setting simple_optimizer=True if this doesn't work for you.\n",
      "2022-02-15 16:03:34,715\tINFO trainer.py:745 -- Current log_level is WARN. For more information, set 'log_level': 'INFO' / 'DEBUG' or use the -v and -vv flags.\n",
      "2022-02-15 16:03:36,090\tWARNING util.py:57 -- Install gputil for GPU system monitoring.\n"
     ]
    },
    {
     "name": "stdout",
     "output_type": "stream",
     "text": [
      "round 0 posterior mean 2.910317114527295\n",
      "round 25 posterior mean 3.231093370868455\n",
      "round 50 posterior mean 3.0246796856279157\n",
      "round 75 posterior mean 2.268511360021181\n"
     ]
    },
    {
     "data": {
      "image/png": "[encoded data removed]",
      "text/plain": [
       "<Figure size 864x576 with 1 Axes>"
      ]
     },
     "metadata": {
      "needs_background": "light"
     },
     "output_type": "display_data"
    },
    {
     "name": "stdout",
     "output_type": "stream",
     "text": [
      "round 0 posterior mean 2.1903718148186853\n",
      "round 25 posterior mean 2.274505710946588\n",
      "round 50 posterior mean 2.203005243348516\n",
      "round 75 posterior mean 2.1668006328212934\n"
     ]
    },
    {
     "data": {
      "image/png": "[encoded data removed]",
      "text/plain": [
       "<Figure size 864x576 with 1 Axes>"
      ]
     },
     "metadata": {
      "needs_background": "light"
     },
     "output_type": "display_data"
    },
    {
     "name": "stdout",
     "output_type": "stream",
     "text": [
      "round 0 posterior mean 2.1558105813811985\n",
      "round 25 posterior mean 2.1515946659641094\n",
      "round 50 posterior mean 2.1389934013258616\n",
      "round 75 posterior mean 2.134526022982813\n"
     ]
    },
    {
     "data": {
      "image/png": "[encoded data removed]",
      "text/plain": [
       "<Figure size 864x576 with 1 Axes>"
      ]
     },
     "metadata": {
      "needs_background": "light"
     },
     "output_type": "display_data"
    }
   ],
   "source": [
    "# Initialize uniform prior of right_bound\n",
    "\n",
    "right_bound = np.random.uniform(1, 5, size=(N,))\n",
    "noise = np.ones((N,)) * 0.05\n",
    "\n",
    "prior_context_particles = np.abs(np.vstack((left_bound, right_bound, pow, step_size, noise, drift)).T)\n",
    "imp_context_distribution = ParticleDistribution(dim=6, particles=prior_context_particles, n_particles=N)\n",
    "\n",
    "ray.shutdown()\n",
    "ray.init()\n",
    "\n",
    "# ray.init(address=\"auto\")\n",
    "imp_solver = ppo.PPOTrainer(env=ContextualCliff, config={\n",
    "                                                \"env_config\":  {'context_distribution': imp_context_distribution},\n",
    "                                                \"framework\": \"torch\",  # config to pass to env class\n",
    "                                            })\n",
    "\n",
    "for update_round in range(3):\n",
    "    # burn in training\n",
    "    if update_round == 0:\n",
    "        for i in range(15):\n",
    "            imp_solver.train()\n",
    "\n",
    "    context_history_imp, imp_context_distribution = filter_context(imp_solver,\n",
    "                                       imp_context_distribution,\n",
    "                                       gt_obs_arr,\n",
    "                                       T,\n",
    "                                       N\n",
    "                                       )\n",
    "\n",
    "    fig, ax = plt.subplots()\n",
    "    HIST_BINS = np.linspace(1, 4, 80)\n",
    "    ax.hist(context_history_imp[0][:, 1], HIST_BINS, lw=1,\n",
    "            ec=\"blue\", fc=\"blue\", alpha=0.5)\n",
    "    ax.hist(context_history_imp[-1][:, 1], HIST_BINS, lw=1,\n",
    "            ec=\"red\", fc=\"red\", alpha=0.5)\n",
    "    plt.axvline(x=2, alpha=0.3, color='black', linestyle='--')\n",
    "    plt.legend(['ground truth: 2.0', 'prior', 'posterior'])\n",
    "    ax.set_ylim(top=N / 5)\n",
    "    fig.set_size_inches(12, 8)\n",
    "    plt.title(f'round {update_round}, mean {context_history_imp[-1][:, 1].mean()}')\n",
    "    plt.show()\n",
    "\n",
    "    imp_solver.workers.foreach_worker(\n",
    "                lambda ev: ev.foreach_env(\n",
    "                    lambda env: env.set_task(imp_context_distribution)))\n",
    "    for _ in range(4):\n",
    "        imp_solver.train()\n"
   ]
  },
  {
   "cell_type": "code",
   "execution_count": 2,
   "metadata": {
    "collapsed": false,
    "pycharm": {
     "name": "#%%\n"
    }
   },
   "outputs": [],
   "source": [
    "context_exact_cliff_data = np.load(\"context_exact_cliff.npy\")\n",
    "context_mis_cliff_data = np.load(\"context_mis_cliff.npy\")\n",
    "context_uniform_cliff_data = np.load(\"context_uniform_cliff.npy\")\n",
    "context_imp_cliff_data = np.load(\"context_imp_cliff.npy\")\n",
    "context_mean_exact_cliff_data = np.load(\"context_mean_exact_cliff.npy\")\n",
    "context_mean_mis_cliff_data = np.load(\"context_mean_mis_cliff.npy\")\n",
    "context_mean_uniform_cliff_data = np.load(\"context_mean_uniform_cliff.npy\")\n",
    "context_mean_imp_cliff_data = np.load(\"context_mean_imp_cliff.npy\")"
   ]
  },
  {
   "cell_type": "code",
   "execution_count": 17,
   "metadata": {},
   "outputs": [
    {
     "data": {
      "image/png": "[encoded data removed]",
      "text/plain": [
       "<Figure size 864x576 with 1 Axes>"
      ]
     },
     "metadata": {
      "needs_background": "light"
     },
     "output_type": "display_data"
    },
    {
     "data": {
      "image/png": "[encoded data removed]",
      "text/plain": [
       "<Figure size 864x576 with 1 Axes>"
      ]
     },
     "metadata": {
      "needs_background": "light"
     },
     "output_type": "display_data"
    }
   ],
   "source": [
    "fig, ax = plt.subplots()\n",
    "HIST_BINS = np.linspace(1.0, 4.5, 100)\n",
    "ax.hist(context_exact_cliff_data, HIST_BINS, lw=1,\n",
    "        ec=\"blue\", fc=\"blue\", alpha=0.5)\n",
    "ax.hist(context_mis_cliff_data, HIST_BINS, lw=1,\n",
    "        ec=\"green\", fc=\"green\", alpha=0.5)\n",
    "ax.hist(context_uniform_cliff_data, HIST_BINS, lw=1,\n",
    "        ec=\"gold\", fc=\"gold\", alpha=0.5)\n",
    "ax.hist(context_imp_cliff_data, HIST_BINS, lw=1,\n",
    "        ec=\"red\", fc=\"red\", alpha=0.5)\n",
    "plt.axvline(x=2.0, alpha=0.3, color='black', linestyle='--')\n",
    "plt.legend(['ground truth: 2.0', 'exact', 'misspecified', 'uniform', 'importance sampling'])\n",
    "fig.set_size_inches(12, 8)\n",
    "plt.title('posterior distribution trained in differently sampled context (Cliff)')\n",
    "plt.show()\n",
    "# plt.savefig('cliff_hist.pdf') \n",
    "\n",
    "res = [context_mean_exact_cliff_data, context_mean_mis_cliff_data, context_mean_uniform_cliff_data, context_mean_imp_cliff_data]\n",
    "fig, ax = plt.subplots()\n",
    "ax.boxplot(res, labels=['exact', 'misspecified', 'uniform', 'importance sampling'])\n",
    "plt.axhline(y=2.0, alpha=0.3, color='black', linestyle='--')\n",
    "plt.title('posterior mean trained in differently sampled context (Cliff)')\n",
    "fig.set_size_inches(12, 8)\n",
    "plt.show()\n",
    "# plt.savefig('cliff_box.pdf')"
   ]
  },
  {
   "cell_type": "code",
   "execution_count": null,
   "metadata": {},
   "outputs": [],
   "source": []
  }
 ],
 "metadata": {
  "interpreter": {
   "hash": "aa1dce0603ccdd30c812e3dafa075ff28fc9755f3afb2f3e9a9fb930dfa519a5"
  },
  "kernelspec": {
   "display_name": "Python 3.8.8 ('base')",
   "language": "python",
   "name": "python3"
  },
  "language_info": {
   "codemirror_mode": {
    "name": "ipython",
    "version": 3
   },
   "file_extension": ".py",
   "mimetype": "text/x-python",
   "name": "python",
   "nbconvert_exporter": "python",
   "pygments_lexer": "ipython3",
   "version": "3.8.8"
  }
 },
 "nbformat": 4,
 "nbformat_minor": 4
}
