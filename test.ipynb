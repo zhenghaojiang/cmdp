{
 "cells": [
  {
   "cell_type": "code",
   "execution_count": 1,
   "metadata": {},
   "outputs": [],
   "source": [
    "from estimators.whited_estimator import EstWhited\n",
    "from solver.value_iteration import VITrainer\n",
    "import matplotlib.pyplot as plt\n",
    "from scipy import stats\n",
    "import numpy as np\n",
    "\n",
    "from mdps.whited_replace import cMDPWhited\n",
    "from utils.distributions import ConstantDistribution, ParticleDistribution, UniformDistribution"
   ]
  },
  {
   "cell_type": "code",
   "execution_count": 2,
   "metadata": {},
   "outputs": [],
   "source": [
    "# collect expert rollout\n",
    "\n",
    "def get_rollouts(solver_, config):\n",
    "    \"\"\"Generate rollouts from a given solver and MDP(c)\"\"\"\n",
    "    env_ = cMDPWhited(config=config)\n",
    "    done_ = False\n",
    "    obs_ = env_.reset()\n",
    "    # run until episode ends\n",
    "    gt_obs_arr_ = obs_\n",
    "    gt_act_arr_ = None\n",
    "    gt_rew_arr_ = None\n",
    "    while not done_:\n",
    "        action_ = solver_.compute_single_action(obs_)\n",
    "        obs_, rewawrd_, done_, _ = env_.step(action_)\n",
    "        gt_obs_arr_ = np.vstack((gt_obs_arr_, obs_))\n",
    "        if gt_act_arr_ is None:\n",
    "            gt_act_arr_ = [action_]\n",
    "            gt_rew_arr_ = [rewawrd_]\n",
    "        else:\n",
    "            gt_act_arr_ += [action_]\n",
    "            gt_rew_arr_ += [rewawrd_]\n",
    "\n",
    "    gt_act_arr_ = np.array(gt_act_arr_)\n",
    "    gt_rew_arr_ = np.array(gt_rew_arr_)\n",
    "    return gt_obs_arr_[1:,:], gt_act_arr_, gt_rew_arr_\n",
    "\n",
    "def plot_rollouts(gt_obs_arr_, gt_act_arr_):\n",
    "    \"\"\"Plot generated rollouts\"\"\"\n",
    "    fig_, ax_1 = plt.subplots()\n",
    "    fig_.set_size_inches(10, 6, forward=True)\n",
    "\n",
    "    x = np.arange(start=0, stop=gt_obs_arr_.shape[0])\n",
    "    ax_2 = ax_1.twinx()\n",
    "    ax_1.plot(x, gt_obs_arr_[:,0], 'r-')\n",
    "    ax_2.plot(x, gt_act_arr_, 'b-', alpha=0.3)\n",
    "\n",
    "    ax_1.set_xlabel('time step')\n",
    "    ax_1.set_ylabel('Capital(k)', color='r')\n",
    "    ax_2.set_ylabel('Action', color='b')\n",
    "    plt.title('sample observations and actions')\n",
    "    plt.show()\n",
    "\n",
    "    fig_, ax_3 = plt.subplots()\n",
    "    fig_.set_size_inches(10, 6, forward=True)\n",
    "\n",
    "    x = np.arange(start=0, stop=gt_obs_arr_.shape[0])\n",
    "    ax_4 = ax_3.twinx()\n",
    "    ax_3.plot(x, gt_obs_arr_[:,1], 'r-')\n",
    "    ax_4.plot(x, gt_act_arr_, 'b-', alpha=0.3)\n",
    "\n",
    "    ax_3.set_xlabel('time step')\n",
    "    ax_3.set_ylabel('Shock(z)', color='r')\n",
    "    ax_4.set_ylabel('Action', color='b')\n",
    "    plt.title('sample observations and actions')\n",
    "    plt.show()"
   ]
  },
  {
   "cell_type": "code",
   "execution_count": 3,
   "metadata": {},
   "outputs": [],
   "source": [
    "c = {\"context_distribution\":\n",
    "     ConstantDistribution(dim=5, constant_vector=np.array(\n",
    "         [0.98, 0.15, 0.7, 0.7, 0.15]))\n",
    "     }\n",
    "c_trainer = {'grid_nums': np.array([35,15])\n",
    "\n",
    "}\n",
    "solver_vi = VITrainer(env=cMDPWhited(config=c))\n"
   ]
  },
  {
   "cell_type": "code",
   "execution_count": 4,
   "metadata": {},
   "outputs": [
    {
     "name": "stdout",
     "output_type": "stream",
     "text": [
      "iteration:  5 distance:  9.653373989045917\n",
      "iteration:  10 distance:  7.156935574776753\n",
      "iteration:  15 distance:  6.256070452420715\n",
      "iteration:  20 distance:  5.623194320213827\n",
      "iteration:  25 distance:  5.078106551885696\n",
      "iteration:  30 distance:  4.58947488778449\n",
      "iteration:  35 distance:  4.148410716921546\n",
      "iteration:  40 distance:  3.749817845369364\n",
      "iteration:  45 distance:  3.3895357709150744\n",
      "iteration:  50 distance:  3.0638714853414513\n",
      "iteration:  55 distance:  2.769497095151223\n",
      "iteration:  60 distance:  2.5034060119950254\n",
      "iteration:  65 distance:  2.2628807557107393\n",
      "iteration:  70 distance:  2.045464975557991\n",
      "iteration:  75 distance:  1.848938330501369\n",
      "iteration:  80 distance:  1.6712938089360705\n",
      "iteration:  85 distance:  1.5107172314596937\n",
      "iteration:  90 distance:  1.3655687236006315\n",
      "iteration:  95 distance:  1.2343659687221589\n",
      "iteration:  100 distance:  1.1157690699903924\n",
      "iteration:  105 distance:  1.0085668667903747\n",
      "iteration:  110 distance:  0.9116645658554035\n",
      "iteration:  115 distance:  0.8240725607822696\n",
      "iteration:  120 distance:  0.7448963257633068\n",
      "iteration:  125 distance:  0.6733272803174941\n",
      "iteration:  130 distance:  0.6086345317318091\n",
      "iteration:  135 distance:  0.5501574108830027\n",
      "iteration:  140 distance:  0.49729872521072593\n"
     ]
    }
   ],
   "source": [
    "solver_vi.train()"
   ]
  },
  {
   "cell_type": "code",
   "execution_count": null,
   "metadata": {},
   "outputs": [],
   "source": []
  }
 ],
 "metadata": {
  "interpreter": {
   "hash": "aa1dce0603ccdd30c812e3dafa075ff28fc9755f3afb2f3e9a9fb930dfa519a5"
  },
  "kernelspec": {
   "display_name": "Python 3.8.8 ('base')",
   "language": "python",
   "name": "python3"
  },
  "language_info": {
   "codemirror_mode": {
    "name": "ipython",
    "version": 3
   },
   "file_extension": ".py",
   "mimetype": "text/x-python",
   "name": "python",
   "nbconvert_exporter": "python",
   "pygments_lexer": "ipython3",
   "version": "3.8.8"
  },
  "orig_nbformat": 4
 },
 "nbformat": 4,
 "nbformat_minor": 2
}
